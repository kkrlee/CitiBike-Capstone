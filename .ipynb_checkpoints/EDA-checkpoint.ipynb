{
 "cells": [
  {
   "cell_type": "code",
   "execution_count": 1,
   "metadata": {},
   "outputs": [],
   "source": [
    "import pandas as pd\n",
    "import numpy as np\n",
    "import matplotlib.pyplot as plt\n",
    "import seaborn as sns\n",
    "%matplotlib inline\n",
    "import warnings\n",
    "warnings.filterwarnings('ignore')"
   ]
  },
  {
   "cell_type": "markdown",
   "metadata": {},
   "source": [
    "# Loading Dataset"
   ]
  },
  {
   "cell_type": "code",
   "execution_count": 2,
   "metadata": {},
   "outputs": [
    {
     "data": {
      "text/html": [
       "<div>\n",
       "<style scoped>\n",
       "    .dataframe tbody tr th:only-of-type {\n",
       "        vertical-align: middle;\n",
       "    }\n",
       "\n",
       "    .dataframe tbody tr th {\n",
       "        vertical-align: top;\n",
       "    }\n",
       "\n",
       "    .dataframe thead th {\n",
       "        text-align: right;\n",
       "    }\n",
       "</style>\n",
       "<table border=\"1\" class=\"dataframe\">\n",
       "  <thead>\n",
       "    <tr style=\"text-align: right;\">\n",
       "      <th></th>\n",
       "      <th>tripduration</th>\n",
       "      <th>start_station_id</th>\n",
       "      <th>start_station_name</th>\n",
       "      <th>start_station_latitude</th>\n",
       "      <th>start_station_longitude</th>\n",
       "      <th>end_station_id</th>\n",
       "      <th>end_station_name</th>\n",
       "      <th>end_station_latitude</th>\n",
       "      <th>end_station_longitude</th>\n",
       "      <th>bikeid</th>\n",
       "      <th>usertype</th>\n",
       "      <th>gender</th>\n",
       "      <th>month</th>\n",
       "      <th>day</th>\n",
       "      <th>hour</th>\n",
       "      <th>dayofweek</th>\n",
       "      <th>Isweekday</th>\n",
       "      <th>age</th>\n",
       "    </tr>\n",
       "  </thead>\n",
       "  <tbody>\n",
       "    <tr>\n",
       "      <th>0</th>\n",
       "      <td>574</td>\n",
       "      <td>359</td>\n",
       "      <td>E 47 St &amp; Park Ave</td>\n",
       "      <td>40.755103</td>\n",
       "      <td>-73.974987</td>\n",
       "      <td>528</td>\n",
       "      <td>2 Ave &amp; E 31 St</td>\n",
       "      <td>40.742909</td>\n",
       "      <td>-73.977061</td>\n",
       "      <td>33216</td>\n",
       "      <td>Subscriber</td>\n",
       "      <td>1</td>\n",
       "      <td>1</td>\n",
       "      <td>30</td>\n",
       "      <td>17</td>\n",
       "      <td>3</td>\n",
       "      <td>1</td>\n",
       "      <td>27</td>\n",
       "    </tr>\n",
       "    <tr>\n",
       "      <th>1</th>\n",
       "      <td>709</td>\n",
       "      <td>493</td>\n",
       "      <td>W 45 St &amp; 6 Ave</td>\n",
       "      <td>40.756800</td>\n",
       "      <td>-73.982912</td>\n",
       "      <td>3159</td>\n",
       "      <td>W 67 St &amp; Broadway</td>\n",
       "      <td>40.774925</td>\n",
       "      <td>-73.982666</td>\n",
       "      <td>16092</td>\n",
       "      <td>Subscriber</td>\n",
       "      <td>1</td>\n",
       "      <td>1</td>\n",
       "      <td>23</td>\n",
       "      <td>19</td>\n",
       "      <td>3</td>\n",
       "      <td>1</td>\n",
       "      <td>30</td>\n",
       "    </tr>\n",
       "    <tr>\n",
       "      <th>2</th>\n",
       "      <td>1993</td>\n",
       "      <td>503</td>\n",
       "      <td>E 20 St &amp; Park Ave</td>\n",
       "      <td>40.738274</td>\n",
       "      <td>-73.987520</td>\n",
       "      <td>3709</td>\n",
       "      <td>W 15 St &amp; 6 Ave</td>\n",
       "      <td>40.738046</td>\n",
       "      <td>-73.996430</td>\n",
       "      <td>34868</td>\n",
       "      <td>Subscriber</td>\n",
       "      <td>1</td>\n",
       "      <td>1</td>\n",
       "      <td>26</td>\n",
       "      <td>18</td>\n",
       "      <td>6</td>\n",
       "      <td>0</td>\n",
       "      <td>43</td>\n",
       "    </tr>\n",
       "    <tr>\n",
       "      <th>3</th>\n",
       "      <td>392</td>\n",
       "      <td>161</td>\n",
       "      <td>LaGuardia Pl &amp; W 3 St</td>\n",
       "      <td>40.729170</td>\n",
       "      <td>-73.998102</td>\n",
       "      <td>438</td>\n",
       "      <td>St Marks Pl &amp; 1 Ave</td>\n",
       "      <td>40.727791</td>\n",
       "      <td>-73.985649</td>\n",
       "      <td>31405</td>\n",
       "      <td>Subscriber</td>\n",
       "      <td>1</td>\n",
       "      <td>1</td>\n",
       "      <td>5</td>\n",
       "      <td>18</td>\n",
       "      <td>6</td>\n",
       "      <td>0</td>\n",
       "      <td>24</td>\n",
       "    </tr>\n",
       "    <tr>\n",
       "      <th>4</th>\n",
       "      <td>543</td>\n",
       "      <td>3496</td>\n",
       "      <td>1 Ave &amp; E 110 St</td>\n",
       "      <td>40.792327</td>\n",
       "      <td>-73.938300</td>\n",
       "      <td>3671</td>\n",
       "      <td>E 81 St &amp; 2 Ave</td>\n",
       "      <td>40.774779</td>\n",
       "      <td>-73.954275</td>\n",
       "      <td>35695</td>\n",
       "      <td>Subscriber</td>\n",
       "      <td>1</td>\n",
       "      <td>1</td>\n",
       "      <td>23</td>\n",
       "      <td>15</td>\n",
       "      <td>3</td>\n",
       "      <td>1</td>\n",
       "      <td>22</td>\n",
       "    </tr>\n",
       "  </tbody>\n",
       "</table>\n",
       "</div>"
      ],
      "text/plain": [
       "   tripduration  start_station_id     start_station_name  \\\n",
       "0           574               359     E 47 St & Park Ave   \n",
       "1           709               493        W 45 St & 6 Ave   \n",
       "2          1993               503     E 20 St & Park Ave   \n",
       "3           392               161  LaGuardia Pl & W 3 St   \n",
       "4           543              3496       1 Ave & E 110 St   \n",
       "\n",
       "   start_station_latitude  start_station_longitude  end_station_id  \\\n",
       "0               40.755103               -73.974987             528   \n",
       "1               40.756800               -73.982912            3159   \n",
       "2               40.738274               -73.987520            3709   \n",
       "3               40.729170               -73.998102             438   \n",
       "4               40.792327               -73.938300            3671   \n",
       "\n",
       "      end_station_name  end_station_latitude  end_station_longitude  bikeid  \\\n",
       "0      2 Ave & E 31 St             40.742909             -73.977061   33216   \n",
       "1   W 67 St & Broadway             40.774925             -73.982666   16092   \n",
       "2      W 15 St & 6 Ave             40.738046             -73.996430   34868   \n",
       "3  St Marks Pl & 1 Ave             40.727791             -73.985649   31405   \n",
       "4      E 81 St & 2 Ave             40.774779             -73.954275   35695   \n",
       "\n",
       "     usertype  gender  month  day  hour  dayofweek  Isweekday  age  \n",
       "0  Subscriber       1      1   30    17          3          1   27  \n",
       "1  Subscriber       1      1   23    19          3          1   30  \n",
       "2  Subscriber       1      1   26    18          6          0   43  \n",
       "3  Subscriber       1      1    5    18          6          0   24  \n",
       "4  Subscriber       1      1   23    15          3          1   22  "
      ]
     },
     "execution_count": 2,
     "metadata": {},
     "output_type": "execute_result"
    }
   ],
   "source": [
    "df = pd.read_csv(\"../data/final.csv\")\n",
    "df.drop([\"Unnamed: 0\", 'birth year', 'date', 'starttime', 'stoptime'], inplace=True, axis=1)\n",
    "df.head()"
   ]
  },
  {
   "cell_type": "markdown",
   "metadata": {},
   "source": [
    "# User Type Distriubution"
   ]
  },
  {
   "cell_type": "code",
   "execution_count": 3,
   "metadata": {},
   "outputs": [
    {
     "data": {
      "text/plain": [
       "usertype\n",
       "Customer      143743\n",
       "Subscriber    883824\n",
       "Name: gender, dtype: int64"
      ]
     },
     "execution_count": 3,
     "metadata": {},
     "output_type": "execute_result"
    }
   ],
   "source": [
    "user = df.groupby('usertype')['gender'].count()\n",
    "user"
   ]
  },
  {
   "cell_type": "code",
   "execution_count": 4,
   "metadata": {},
   "outputs": [
    {
     "data": {
      "image/png": "[encoded data removed]",
      "text/plain": [
       "<Figure size 504x504 with 1 Axes>"
      ]
     },
     "metadata": {},
     "output_type": "display_data"
    }
   ],
   "source": [
    "# pie chart of work\n",
    "user = df.groupby('usertype')['gender'].count()\n",
    "labels = ['Customer', 'Subscriber']\n",
    "fig1, ax1 = plt.subplots(figsize=(7,7))\n",
    "colors = ['#ff9999','#66b3ff','#99ff99','#ffcc99']\n",
    "textprops = {\"fontsize\":20}\n",
    "ax1.pie(user, labels=labels, colors=colors, explode=(0.1, 0), textprops=textprops, autopct='%1.1f%%', shadow=True)\n",
    "ax1.axis('equal')\n",
    "plt.show()"
   ]
  },
  {
   "cell_type": "markdown",
   "metadata": {},
   "source": [
    "# Gender Distribution by User Type"
   ]
  },
  {
   "cell_type": "code",
   "execution_count": 5,
   "metadata": {},
   "outputs": [
    {
     "data": {
      "text/html": [
       "<div>\n",
       "<style scoped>\n",
       "    .dataframe tbody tr th:only-of-type {\n",
       "        vertical-align: middle;\n",
       "    }\n",
       "\n",
       "    .dataframe tbody tr th {\n",
       "        vertical-align: top;\n",
       "    }\n",
       "\n",
       "    .dataframe thead th {\n",
       "        text-align: right;\n",
       "    }\n",
       "</style>\n",
       "<table border=\"1\" class=\"dataframe\">\n",
       "  <thead>\n",
       "    <tr style=\"text-align: right;\">\n",
       "      <th></th>\n",
       "      <th>usertype</th>\n",
       "      <th>gender</th>\n",
       "      <th>tripduration</th>\n",
       "    </tr>\n",
       "  </thead>\n",
       "  <tbody>\n",
       "    <tr>\n",
       "      <th>0</th>\n",
       "      <td>Customer</td>\n",
       "      <td>0</td>\n",
       "      <td>62415</td>\n",
       "    </tr>\n",
       "    <tr>\n",
       "      <th>1</th>\n",
       "      <td>Customer</td>\n",
       "      <td>1</td>\n",
       "      <td>52243</td>\n",
       "    </tr>\n",
       "    <tr>\n",
       "      <th>2</th>\n",
       "      <td>Customer</td>\n",
       "      <td>2</td>\n",
       "      <td>29085</td>\n",
       "    </tr>\n",
       "    <tr>\n",
       "      <th>3</th>\n",
       "      <td>Subscriber</td>\n",
       "      <td>0</td>\n",
       "      <td>16230</td>\n",
       "    </tr>\n",
       "    <tr>\n",
       "      <th>4</th>\n",
       "      <td>Subscriber</td>\n",
       "      <td>1</td>\n",
       "      <td>649415</td>\n",
       "    </tr>\n",
       "    <tr>\n",
       "      <th>5</th>\n",
       "      <td>Subscriber</td>\n",
       "      <td>2</td>\n",
       "      <td>218179</td>\n",
       "    </tr>\n",
       "  </tbody>\n",
       "</table>\n",
       "</div>"
      ],
      "text/plain": [
       "     usertype  gender  tripduration\n",
       "0    Customer       0         62415\n",
       "1    Customer       1         52243\n",
       "2    Customer       2         29085\n",
       "3  Subscriber       0         16230\n",
       "4  Subscriber       1        649415\n",
       "5  Subscriber       2        218179"
      ]
     },
     "execution_count": 5,
     "metadata": {},
     "output_type": "execute_result"
    }
   ],
   "source": [
    "user_gender_count = df.groupby(['usertype', 'gender'])['tripduration'].count().reset_index()\n",
    "user_gender_count"
   ]
  },
  {
   "cell_type": "code",
   "execution_count": 6,
   "metadata": {},
   "outputs": [
    {
     "data": {
      "image/png": "[encoded data removed]",
      "text/plain": [
       "<Figure size 1440x720 with 1 Axes>"
      ]
     },
     "metadata": {},
     "output_type": "display_data"
    }
   ],
   "source": [
    "sns.set_theme(style=\"dark\")\n",
    "fig, ax = plt.subplots(figsize=(20,10))\n",
    "sns.set(font_scale=3)\n",
    "plt.title(\"Gender Counts by User Type\")\n",
    "plt.xticks(fontsize=20)\n",
    "plt.yticks(fontsize=20)\n",
    "ax = sns.barplot(x = 'usertype', y = 'tripduration', hue = 'gender', order = ['Subscriber', 'Customer'], data = user_gender_count, palette = 'hls')\n",
    "ax.set(xlabel = \"User Type\", ylabel = \"Trip Counts\")\n",
    "legend_labels, _= ax.get_legend_handles_labels()\n",
    "ax.legend(legend_labels, ['Unknown', \"Male\", \"Female\"])\n",
    "ax.xaxis.get_label().set_size(20)\n",
    "ax.yaxis.get_label().set_size(20)\n",
    "plt.show()"
   ]
  },
  {
   "cell_type": "code",
   "execution_count": 7,
   "metadata": {},
   "outputs": [
    {
     "data": {
      "text/html": [
       "<div>\n",
       "<style scoped>\n",
       "    .dataframe tbody tr th:only-of-type {\n",
       "        vertical-align: middle;\n",
       "    }\n",
       "\n",
       "    .dataframe tbody tr th {\n",
       "        vertical-align: top;\n",
       "    }\n",
       "\n",
       "    .dataframe thead th {\n",
       "        text-align: right;\n",
       "    }\n",
       "</style>\n",
       "<table border=\"1\" class=\"dataframe\">\n",
       "  <thead>\n",
       "    <tr style=\"text-align: right;\">\n",
       "      <th></th>\n",
       "      <th>usertype</th>\n",
       "      <th>gender</th>\n",
       "      <th>tripduration</th>\n",
       "      <th>trip_ratio</th>\n",
       "    </tr>\n",
       "  </thead>\n",
       "  <tbody>\n",
       "    <tr>\n",
       "      <th>0</th>\n",
       "      <td>Customer</td>\n",
       "      <td>0</td>\n",
       "      <td>62415</td>\n",
       "      <td>43.421245</td>\n",
       "    </tr>\n",
       "    <tr>\n",
       "      <th>1</th>\n",
       "      <td>Customer</td>\n",
       "      <td>1</td>\n",
       "      <td>52243</td>\n",
       "      <td>36.344726</td>\n",
       "    </tr>\n",
       "    <tr>\n",
       "      <th>2</th>\n",
       "      <td>Customer</td>\n",
       "      <td>2</td>\n",
       "      <td>29085</td>\n",
       "      <td>20.234029</td>\n",
       "    </tr>\n",
       "    <tr>\n",
       "      <th>3</th>\n",
       "      <td>Subscriber</td>\n",
       "      <td>0</td>\n",
       "      <td>16230</td>\n",
       "      <td>1.836338</td>\n",
       "    </tr>\n",
       "    <tr>\n",
       "      <th>4</th>\n",
       "      <td>Subscriber</td>\n",
       "      <td>1</td>\n",
       "      <td>649415</td>\n",
       "      <td>73.477864</td>\n",
       "    </tr>\n",
       "    <tr>\n",
       "      <th>5</th>\n",
       "      <td>Subscriber</td>\n",
       "      <td>2</td>\n",
       "      <td>218179</td>\n",
       "      <td>24.685797</td>\n",
       "    </tr>\n",
       "  </tbody>\n",
       "</table>\n",
       "</div>"
      ],
      "text/plain": [
       "     usertype  gender  tripduration  trip_ratio\n",
       "0    Customer       0         62415   43.421245\n",
       "1    Customer       1         52243   36.344726\n",
       "2    Customer       2         29085   20.234029\n",
       "3  Subscriber       0         16230    1.836338\n",
       "4  Subscriber       1        649415   73.477864\n",
       "5  Subscriber       2        218179   24.685797"
      ]
     },
     "execution_count": 7,
     "metadata": {},
     "output_type": "execute_result"
    }
   ],
   "source": [
    "user_gender_ratio = df.groupby(['usertype', 'gender'])['tripduration'].count().reset_index()\n",
    "cus = user_gender_ratio[user_gender_ratio['usertype']==\"Customer\"]\n",
    "cus_sum = cus['tripduration'].sum()\n",
    "sub = user_gender_ratio[user_gender_ratio['usertype']==\"Subscriber\"]\n",
    "sub_sum = sub['tripduration'].sum()\n",
    "user_gender_ratio.loc[user_gender_ratio['usertype'] == \"Customer\", \"trip_ratio\"] = cus['tripduration'] / cus_sum*100\n",
    "user_gender_ratio.loc[user_gender_ratio['usertype'] == \"Subscriber\", \"trip_ratio\"] = sub['tripduration'] / sub_sum*100\n",
    "user_gender_ratio"
   ]
  },
  {
   "cell_type": "code",
   "execution_count": 8,
   "metadata": {
    "scrolled": true
   },
   "outputs": [
    {
     "data": {
      "image/png": "[encoded data removed]",
      "text/plain": [
       "<Figure size 1440x720 with 1 Axes>"
      ]
     },
     "metadata": {},
     "output_type": "display_data"
    }
   ],
   "source": [
    "sns.set_theme(style=\"dark\")\n",
    "fig, ax = plt.subplots(figsize=(20,10))\n",
    "sns.set(font_scale=3)\n",
    "plt.title(\"Gender Ratio by User Type\")\n",
    "plt.xticks(fontsize=20)\n",
    "plt.yticks(fontsize=20)\n",
    "ax = sns.barplot(x = 'usertype', y = 'trip_ratio', hue = 'gender', order = ['Subscriber', 'Customer'], data = user_gender_ratio, palette = 'hls')\n",
    "ax.set(xlabel = \"User Type\", ylabel = \"Percentage (%)\")\n",
    "legend_labels, _= ax.get_legend_handles_labels()\n",
    "ax.legend(legend_labels, ['Unknown', \"Male\", \"Female\"])\n",
    "ax.xaxis.get_label().set_size(20)\n",
    "ax.yaxis.get_label().set_size(20)\n",
    "plt.show()"
   ]
  },
  {
   "cell_type": "code",
   "execution_count": 9,
   "metadata": {},
   "outputs": [
    {
     "data": {
      "text/html": [
       "<div>\n",
       "<style scoped>\n",
       "    .dataframe tbody tr th:only-of-type {\n",
       "        vertical-align: middle;\n",
       "    }\n",
       "\n",
       "    .dataframe tbody tr th {\n",
       "        vertical-align: top;\n",
       "    }\n",
       "\n",
       "    .dataframe thead th {\n",
       "        text-align: right;\n",
       "    }\n",
       "</style>\n",
       "<table border=\"1\" class=\"dataframe\">\n",
       "  <thead>\n",
       "    <tr style=\"text-align: right;\">\n",
       "      <th></th>\n",
       "      <th>gender</th>\n",
       "      <th>usertype</th>\n",
       "      <th>tripduration</th>\n",
       "    </tr>\n",
       "  </thead>\n",
       "  <tbody>\n",
       "    <tr>\n",
       "      <th>0</th>\n",
       "      <td>Female</td>\n",
       "      <td>Customer</td>\n",
       "      <td>29085</td>\n",
       "    </tr>\n",
       "    <tr>\n",
       "      <th>1</th>\n",
       "      <td>Female</td>\n",
       "      <td>Subscriber</td>\n",
       "      <td>218179</td>\n",
       "    </tr>\n",
       "    <tr>\n",
       "      <th>2</th>\n",
       "      <td>Male</td>\n",
       "      <td>Customer</td>\n",
       "      <td>52243</td>\n",
       "    </tr>\n",
       "    <tr>\n",
       "      <th>3</th>\n",
       "      <td>Male</td>\n",
       "      <td>Subscriber</td>\n",
       "      <td>649415</td>\n",
       "    </tr>\n",
       "    <tr>\n",
       "      <th>4</th>\n",
       "      <td>Unknown</td>\n",
       "      <td>Customer</td>\n",
       "      <td>62415</td>\n",
       "    </tr>\n",
       "    <tr>\n",
       "      <th>5</th>\n",
       "      <td>Unknown</td>\n",
       "      <td>Subscriber</td>\n",
       "      <td>16230</td>\n",
       "    </tr>\n",
       "  </tbody>\n",
       "</table>\n",
       "</div>"
      ],
      "text/plain": [
       "    gender    usertype  tripduration\n",
       "0   Female    Customer         29085\n",
       "1   Female  Subscriber        218179\n",
       "2     Male    Customer         52243\n",
       "3     Male  Subscriber        649415\n",
       "4  Unknown    Customer         62415\n",
       "5  Unknown  Subscriber         16230"
      ]
     },
     "execution_count": 9,
     "metadata": {},
     "output_type": "execute_result"
    }
   ],
   "source": [
    "df['gender'] = df['gender'].map({0: 'Unknown', 1: 'Male', 2: 'Female'})\n",
    "gender_user = df.groupby(['gender', 'usertype'])['tripduration'].count().reset_index()\n",
    "gender_user"
   ]
  },
  {
   "cell_type": "code",
   "execution_count": 10,
   "metadata": {},
   "outputs": [
    {
     "data": {
      "image/png": "[encoded data removed]",
      "text/plain": [
       "<Figure size 1440x720 with 1 Axes>"
      ]
     },
     "metadata": {},
     "output_type": "display_data"
    }
   ],
   "source": [
    "sns.set_theme(style=\"dark\")\n",
    "fig, ax = plt.subplots(figsize=(20,10))\n",
    "sns.set(font_scale=3)\n",
    "plt.title(\"User Type Counts by Gender\")\n",
    "plt.xticks(fontsize=20)\n",
    "plt.yticks(fontsize=20)\n",
    "ax = sns.barplot(x = 'gender', y = 'tripduration', hue = 'usertype', order = ['Unknown', 'Male', 'Female'], data = gender_user, palette = 'hls')\n",
    "ax.set(xlabel = \"Gender\", ylabel = \"Trip Counts\")\n",
    "legend_labels, _= ax.get_legend_handles_labels()\n",
    "ax.legend(legend_labels, ['Customer', 'Subscriber'])\n",
    "ax.xaxis.get_label().set_size(30)\n",
    "ax.yaxis.get_label().set_size(30)\n",
    "plt.show()"
   ]
  },
  {
   "cell_type": "code",
   "execution_count": 14,
   "metadata": {},
   "outputs": [
    {
     "data": {
      "text/html": [
       "<div>\n",
       "<style scoped>\n",
       "    .dataframe tbody tr th:only-of-type {\n",
       "        vertical-align: middle;\n",
       "    }\n",
       "\n",
       "    .dataframe tbody tr th {\n",
       "        vertical-align: top;\n",
       "    }\n",
       "\n",
       "    .dataframe thead th {\n",
       "        text-align: right;\n",
       "    }\n",
       "</style>\n",
       "<table border=\"1\" class=\"dataframe\">\n",
       "  <thead>\n",
       "    <tr style=\"text-align: right;\">\n",
       "      <th></th>\n",
       "      <th>gender</th>\n",
       "      <th>usertype</th>\n",
       "      <th>tripduration</th>\n",
       "    </tr>\n",
       "  </thead>\n",
       "  <tbody>\n",
       "  </tbody>\n",
       "</table>\n",
       "</div>"
      ],
      "text/plain": [
       "Empty DataFrame\n",
       "Columns: [gender, usertype, tripduration]\n",
       "Index: []"
      ]
     },
     "execution_count": 14,
     "metadata": {},
     "output_type": "execute_result"
    }
   ],
   "source": [
    "df['gender'] = df['gender'].map({0: 'Unknown', 1: 'Male', 2: 'Female'})\n",
    "gender_user = df.groupby(['gender', 'usertype'])['tripduration'].count().reset_index()\n",
    "gender_user"
   ]
  },
  {
   "cell_type": "code",
   "execution_count": 12,
   "metadata": {},
   "outputs": [
    {
     "ename": "NameError",
     "evalue": "name 'gender_user_ratio' is not defined",
     "output_type": "error",
     "traceback": [
      "\u001b[1;31m---------------------------------------------------------------------------\u001b[0m",
      "\u001b[1;31mNameError\u001b[0m                                 Traceback (most recent call last)",
      "\u001b[1;32m<ipython-input-12-c22fad8b3369>\u001b[0m in \u001b[0;36m<module>\u001b[1;34m\u001b[0m\n\u001b[1;32m----> 1\u001b[1;33m \u001b[0munknown\u001b[0m \u001b[1;33m=\u001b[0m \u001b[0mgender_user_ratio\u001b[0m\u001b[1;33m[\u001b[0m\u001b[0mgender_user_ratio\u001b[0m\u001b[1;33m[\u001b[0m\u001b[1;34m'gender'\u001b[0m\u001b[1;33m]\u001b[0m\u001b[1;33m==\u001b[0m\u001b[1;34m\"Unknown\"\u001b[0m\u001b[1;33m]\u001b[0m\u001b[1;33m\u001b[0m\u001b[1;33m\u001b[0m\u001b[0m\n\u001b[0m\u001b[0;32m      2\u001b[0m \u001b[0munknown_sum\u001b[0m \u001b[1;33m=\u001b[0m \u001b[0munknown\u001b[0m\u001b[1;33m[\u001b[0m\u001b[1;34m'tripduration'\u001b[0m\u001b[1;33m]\u001b[0m\u001b[1;33m.\u001b[0m\u001b[0msum\u001b[0m\u001b[1;33m(\u001b[0m\u001b[1;33m)\u001b[0m\u001b[1;33m\u001b[0m\u001b[1;33m\u001b[0m\u001b[0m\n\u001b[0;32m      3\u001b[0m \u001b[0mmale\u001b[0m \u001b[1;33m=\u001b[0m \u001b[0mgender_user_ratio\u001b[0m\u001b[1;33m[\u001b[0m\u001b[0mgender_user_ratio\u001b[0m\u001b[1;33m[\u001b[0m\u001b[1;34m'gender'\u001b[0m\u001b[1;33m]\u001b[0m\u001b[1;33m==\u001b[0m\u001b[1;34m\"Male\"\u001b[0m\u001b[1;33m]\u001b[0m\u001b[1;33m\u001b[0m\u001b[1;33m\u001b[0m\u001b[0m\n\u001b[0;32m      4\u001b[0m \u001b[0mmale_sum\u001b[0m \u001b[1;33m=\u001b[0m \u001b[0mmale\u001b[0m\u001b[1;33m[\u001b[0m\u001b[1;34m'tripduration'\u001b[0m\u001b[1;33m]\u001b[0m\u001b[1;33m.\u001b[0m\u001b[0msum\u001b[0m\u001b[1;33m(\u001b[0m\u001b[1;33m)\u001b[0m\u001b[1;33m\u001b[0m\u001b[1;33m\u001b[0m\u001b[0m\n\u001b[0;32m      5\u001b[0m \u001b[0mfemale\u001b[0m \u001b[1;33m=\u001b[0m \u001b[0mgender_user_ratio\u001b[0m\u001b[1;33m[\u001b[0m\u001b[0mgender_user_ratio\u001b[0m\u001b[1;33m[\u001b[0m\u001b[1;34m'gender'\u001b[0m\u001b[1;33m]\u001b[0m\u001b[1;33m==\u001b[0m\u001b[1;34m\"Female\"\u001b[0m\u001b[1;33m]\u001b[0m\u001b[1;33m\u001b[0m\u001b[1;33m\u001b[0m\u001b[0m\n",
      "\u001b[1;31mNameError\u001b[0m: name 'gender_user_ratio' is not defined"
     ]
    }
   ],
   "source": [
    "unknown = gender_user_ratio[gender_user_ratio['gender']==\"Unknown\"]\n",
    "unknown_sum = unknown['tripduration'].sum()\n",
    "male = gender_user_ratio[gender_user_ratio['gender']==\"Male\"]\n",
    "male_sum = male['tripduration'].sum()\n",
    "female = gender_user_ratio[gender_user_ratio['gender']==\"Female\"]\n",
    "female_sum = female['tripduration'].sum()\n",
    "\n",
    "gender_user_ratio.loc[gender_user_ratio['gender'] == \"Unknown\", \"gender_trip_ratio\"] = unknown['tripduration'] / unknown_sum*100\n",
    "gender_user_ratio.loc[gender_user_ratio['gender'] == \"Male\", \"gender_trip_ratio\"] = male['tripduration'] / male_sum*100\n",
    "gender_user_ratio.loc[gender_user_ratio['gender'] == \"Female\", \"gender_trip_ratio\"] = female['tripduration'] / female_sum*100\n",
    "gender_user_ratio"
   ]
  },
  {
   "cell_type": "code",
   "execution_count": null,
   "metadata": {},
   "outputs": [],
   "source": [
    "sns.set_theme(style=\"dark\")\n",
    "fig, ax = plt.subplots(figsize=(20,10))\n",
    "sns.set(font_scale=3)\n",
    "plt.title(\"User Type Ratio by Gender\")\n",
    "plt.xticks(fontsize=20)\n",
    "plt.yticks(fontsize=20)\n",
    "ax = sns.barplot(x = 'gender', y = 'trip_ratio', hue = 'usertype', order = ['Unknown', 'Male', 'Female'], data = gender_user_ratio, palette = 'hls')\n",
    "ax.set(xlabel = \"Gender\", ylabel = \"Percentage (%)\")\n",
    "legend_labels, _= ax.get_legend_handles_labels()\n",
    "ax.legend(legend_labels, ['Customer', 'Subscriber'])\n",
    "ax.xaxis.get_label().set_size(20)\n",
    "ax.yaxis.get_label().set_size(20)\n",
    "plt.show()\n",
    "\n",
    "sns.set_theme(style=\"dark\")\n",
    "fig, ax = plt.subplots(figsize=(20,10))\n",
    "sns.set(font_scale=3)\n",
    "plt.title(\"User Type Counts by Gender\")\n",
    "plt.xticks(fontsize=20)\n",
    "plt.yticks(fontsize=20)\n",
    "ax = sns.barplot(x = 'gender', y = 'tripduration', hue = 'usertype', order = ['Unknown', 'Male', 'Female'], data = gender_user, palette = 'hls')\n",
    "ax.set(xlabel = \"Gender\", ylabel = \"Trip Counts\")\n",
    "legend_labels, _= ax.get_legend_handles_labels()\n",
    "ax.legend(legend_labels, ['Customer', 'Subscriber'])\n",
    "ax.xaxis.get_label().set_size(30)\n",
    "ax.yaxis.get_label().set_size(30)\n",
    "plt.show()"
   ]
  },
  {
   "cell_type": "markdown",
   "metadata": {},
   "source": [
    "# Age Distribution by User Type"
   ]
  },
  {
   "cell_type": "code",
   "execution_count": null,
   "metadata": {},
   "outputs": [],
   "source": [
    "df[\"ages\"] = pd.cut(df.age, bins=[10, 20, 30, 40, 50, 60, 200], labels = [\"10s\", \"20s\", \"30s\", \"40s\", \"50s\", \"Elderly\"])\n",
    "user_age = df.groupby(['usertype', 'ages']).count()[['tripduration']].reset_index()\n",
    "user_age"
   ]
  },
  {
   "cell_type": "code",
   "execution_count": null,
   "metadata": {},
   "outputs": [],
   "source": [
    "user_age_cust = user_age[user_age['usertype'] == \"Customer\"]\n",
    "user_age_cust"
   ]
  },
  {
   "cell_type": "code",
   "execution_count": null,
   "metadata": {},
   "outputs": [],
   "source": [
    "user_age_sub = user_age[user_age['usertype'] == \"Subscriber\"]\n",
    "user_age_sub"
   ]
  },
  {
   "cell_type": "code",
   "execution_count": null,
   "metadata": {},
   "outputs": [],
   "source": [
    "col_num = 2\n",
    "row_num = 1\n",
    "fig, axes = plt.subplots(row_num, col_num, figsize=(16, 5))\n",
    "\n",
    "user_age_cust.columns = ['User Type', 'Ages', 'Trip Counts']\n",
    "plt.subplot(1, 2, 1)\n",
    "plt.title('Customer')\n",
    "plt.xticks(fontsize=12)\n",
    "plt.yticks(fontsize=12)\n",
    "sns.set_style('darkgrid')\n",
    "ax = sns.barplot('Ages', 'Trip Counts',data = user_age_cust)\n",
    "\n",
    "user_age_sub.columns = ['User Type', 'Ages', 'Trip Counts']\n",
    "plt.subplot(1, 2, 2)\n",
    "plt.title('Subscriber')\n",
    "plt.xticks(fontsize=12)\n",
    "plt.yticks(fontsize=12)\n",
    "sns.set_style('darkgrid')\n",
    "ax = sns.barplot('Ages', 'Trip Counts',data = user_age_sub)\n",
    "\n",
    "plt.show()"
   ]
  },
  {
   "cell_type": "markdown",
   "metadata": {},
   "source": [
    "# Trip Duration by User Type\n",
    "\n",
    "**TO DO:** find the better statistical plot (box plot) to use here, to see distribution continuous variable (trip duration) for different values of categorical variable (user type) \n",
    "\n",
    "**TO DO:** check if difference is statistically significant or not, need to statistical test get pvalue decide"
   ]
  },
  {
   "cell_type": "code",
   "execution_count": null,
   "metadata": {},
   "outputs": [],
   "source": [
    "user_trip = df.groupby('usertype').mean()[['tripduration']].reset_index()\n",
    "user_trip"
   ]
  },
  {
   "cell_type": "code",
   "execution_count": null,
   "metadata": {},
   "outputs": [],
   "source": [
    "user_trip.columns=['User Type','Average Trip Duration']\n",
    "plt.figure(figsize=(12,6))\n",
    "plt.xticks(fontsize=18)\n",
    "plt.yticks(fontsize=18)\n",
    "sns.set_style('darkgrid')\n",
    "sns.barplot('User Type','Average Trip Duration', data = user_trip);"
   ]
  },
  {
   "cell_type": "code",
   "execution_count": null,
   "metadata": {},
   "outputs": [],
   "source": [
    "user_tripduration = df[['usertype', 'tripduration']]\n",
    "user_tripduration.reset_index()\n",
    "user_tripduration"
   ]
  },
  {
   "cell_type": "code",
   "execution_count": null,
   "metadata": {
    "scrolled": true
   },
   "outputs": [],
   "source": [
    "user_tripduration.columns=['User Type','Trip Duration']\n",
    "plt.figure(figsize = (12,5))\n",
    "sns.set_style('darkgrid')\n",
    "sns.boxplot(x=\"User Type\", y='Trip Duration', data=user_tripduration)"
   ]
  },
  {
   "cell_type": "code",
   "execution_count": null,
   "metadata": {},
   "outputs": [],
   "source": [
    "from scipy import stats"
   ]
  },
  {
   "cell_type": "code",
   "execution_count": null,
   "metadata": {},
   "outputs": [],
   "source": [
    "cust = user_tripduration[user_tripduration['User Type']==\"Customer\"]\n",
    "cust = np.array(cust['Trip Duration'])\n",
    "sub = user_tripduration[user_tripduration['User Type']==\"Subscriber\"]\n",
    "sub = np.array(sub['Trip Duration'])"
   ]
  },
  {
   "cell_type": "code",
   "execution_count": null,
   "metadata": {},
   "outputs": [],
   "source": [
    "stats.ttest_ind(cust, sub)"
   ]
  },
  {
   "cell_type": "markdown",
   "metadata": {},
   "source": [
    "# Most Popular Start Stations by User Type"
   ]
  },
  {
   "cell_type": "code",
   "execution_count": null,
   "metadata": {},
   "outputs": [],
   "source": [
    "user_start = df.groupby(['usertype', 'start_station_name']).count()['tripduration'].reset_index()"
   ]
  },
  {
   "cell_type": "code",
   "execution_count": null,
   "metadata": {},
   "outputs": [],
   "source": [
    "user_start_cust = user_start[user_start['usertype'] == \"Customer\"]\n",
    "user_start_cust = user_start_cust.sort_values(by='tripduration', ascending=False)[1:11]\n",
    "user_start_cust"
   ]
  },
  {
   "cell_type": "code",
   "execution_count": null,
   "metadata": {},
   "outputs": [],
   "source": [
    "user_start_sub = user_start[user_start['usertype'] == \"Subscriber\"]\n",
    "user_start_sub = user_start_sub.sort_values(by='tripduration', ascending=False)[1:11]\n",
    "user_start_sub"
   ]
  },
  {
   "cell_type": "code",
   "execution_count": null,
   "metadata": {},
   "outputs": [],
   "source": [
    "col_num = 2\n",
    "row_num = 1\n",
    "fig, axes = plt.subplots(row_num, col_num, figsize=(16, 5))\n",
    "\n",
    "user_start_cust.columns = ['User Type', 'Station', 'Trip Counts']\n",
    "plt.subplot(1, 2, 1)\n",
    "plt.title('Customer')\n",
    "plt.xticks(rotation=90)\n",
    "plt.xticks(fontsize=12)\n",
    "plt.yticks(fontsize=12)\n",
    "sns.set_style('darkgrid')\n",
    "ax = sns.barplot('Station', 'Trip Counts',data = user_start_cust)\n",
    "\n",
    "user_start_sub.columns = ['User Type', 'Station', 'Trip Counts']\n",
    "plt.subplot(1, 2, 2)\n",
    "plt.title('Subscriber')\n",
    "plt.xticks(rotation=90)\n",
    "plt.xticks(fontsize=12)\n",
    "plt.yticks(fontsize=12)\n",
    "sns.set_style('darkgrid')\n",
    "ax = sns.barplot('Station', 'Trip Counts',data = user_start_sub)\n",
    "\n",
    "plt.show()"
   ]
  },
  {
   "cell_type": "markdown",
   "metadata": {},
   "source": [
    "# Most Popular End Stations by User Type"
   ]
  },
  {
   "cell_type": "code",
   "execution_count": null,
   "metadata": {},
   "outputs": [],
   "source": [
    "user_end = df.groupby(['usertype', 'end_station_name']).count()['tripduration'].reset_index()"
   ]
  },
  {
   "cell_type": "code",
   "execution_count": null,
   "metadata": {},
   "outputs": [],
   "source": [
    "user_end_cust = user_end[user_end['usertype'] == \"Customer\"]\n",
    "user_end_cust = user_end_cust.sort_values(by='tripduration', ascending=False)[1:11]\n",
    "user_end_cust"
   ]
  },
  {
   "cell_type": "code",
   "execution_count": null,
   "metadata": {},
   "outputs": [],
   "source": [
    "user_end_sub = user_end[user_end['usertype'] == \"Subscriber\"]\n",
    "user_end_sub = user_end_sub.sort_values(by='tripduration', ascending=False)[1:11]\n",
    "user_end_sub"
   ]
  },
  {
   "cell_type": "code",
   "execution_count": null,
   "metadata": {},
   "outputs": [],
   "source": [
    "col_num = 2\n",
    "row_num = 1\n",
    "fig, axes = plt.subplots(row_num, col_num, figsize=(16, 5))\n",
    "\n",
    "user_end_cust.columns = ['User Type', 'Station', 'Trip Counts']\n",
    "plt.subplot(1, 2, 1)\n",
    "plt.title('Customer')\n",
    "plt.xticks(rotation=90)\n",
    "plt.xticks(fontsize=12)\n",
    "plt.yticks(fontsize=12)\n",
    "sns.set_style('darkgrid')\n",
    "ax = sns.barplot('Station', 'Trip Counts',data = user_end_cust)\n",
    "\n",
    "user_end_sub.columns = ['User Type', 'Station', 'Trip Counts']\n",
    "plt.subplot(1, 2, 2)\n",
    "plt.title('Subscriber')\n",
    "plt.xticks(rotation=90)\n",
    "plt.xticks(fontsize=12)\n",
    "plt.yticks(fontsize=12)\n",
    "sns.set_style('darkgrid')\n",
    "ax = sns.barplot('Station', 'Trip Counts',data = user_end_sub)\n",
    "\n",
    "plt.show()"
   ]
  },
  {
   "cell_type": "markdown",
   "metadata": {},
   "source": [
    "# Most Popular Hours by User Type"
   ]
  },
  {
   "cell_type": "code",
   "execution_count": null,
   "metadata": {},
   "outputs": [],
   "source": [
    "user_hour = df.groupby(['usertype', 'hour']).count()['tripduration'].reset_index()"
   ]
  },
  {
   "cell_type": "code",
   "execution_count": null,
   "metadata": {},
   "outputs": [],
   "source": [
    "user_hour_cust = user_hour[user_hour['usertype'] == \"Customer\"]\n",
    "user_hour_cust = user_hour_cust.sort_values(by='tripduration', ascending=False)\n",
    "user_hour_cust"
   ]
  },
  {
   "cell_type": "code",
   "execution_count": null,
   "metadata": {},
   "outputs": [],
   "source": [
    "user_hour_sub = user_hour[user_hour['usertype'] == \"Subscriber\"]\n",
    "user_hour_sub = user_hour_sub.sort_values(by='tripduration', ascending=False)\n",
    "user_hour_sub"
   ]
  },
  {
   "cell_type": "code",
   "execution_count": null,
   "metadata": {},
   "outputs": [],
   "source": [
    "col_num = 2\n",
    "row_num = 1\n",
    "fig, axes = plt.subplots(row_num, col_num, figsize=(16, 5))\n",
    "\n",
    "user_hour_cust.columns = ['User Type', 'Hours', 'Trip Counts']\n",
    "plt.subplot(1, 2, 1)\n",
    "plt.title('Customer')\n",
    "plt.xticks(fontsize=12)\n",
    "plt.yticks(fontsize=12)\n",
    "sns.set_style('darkgrid')\n",
    "ax = sns.barplot('Hours', 'Trip Counts',data = user_hour_cust)\n",
    "\n",
    "user_hour_sub.columns = ['User Type', 'Hours', 'Trip Counts']\n",
    "plt.subplot(1, 2, 2)\n",
    "plt.title('Subscriber')\n",
    "plt.xticks(fontsize=12)\n",
    "plt.yticks(fontsize=12)\n",
    "sns.set_style('darkgrid')\n",
    "ax = sns.barplot('Hours', 'Trip Counts',data = user_hour_sub)\n",
    "\n",
    "plt.show()"
   ]
  },
  {
   "cell_type": "markdown",
   "metadata": {},
   "source": [
    "# Most Popular Days of The Week by User Type"
   ]
  },
  {
   "cell_type": "markdown",
   "metadata": {},
   "source": [
    "## Weekday vs Weekend"
   ]
  },
  {
   "cell_type": "code",
   "execution_count": null,
   "metadata": {},
   "outputs": [],
   "source": [
    "df['Isweekday'] = [\"Weekend\" if 6<=x<=7 else 'Weekday' for x in df['dayofweek']]"
   ]
  },
  {
   "cell_type": "code",
   "execution_count": null,
   "metadata": {},
   "outputs": [],
   "source": [
    "user_week_count = df.groupby(['usertype', 'Isweekday'])['tripduration'].count().reset_index()\n",
    "user_week_count"
   ]
  },
  {
   "cell_type": "code",
   "execution_count": null,
   "metadata": {},
   "outputs": [],
   "source": [
    "sns.set_theme(style=\"dark\")\n",
    "fig, ax = plt.subplots(figsize=(20,10))\n",
    "sns.set(font_scale=3)\n",
    "plt.title(\"Weekday/Weekend Counts by User Type\")\n",
    "plt.xticks(fontsize=20)\n",
    "plt.yticks(fontsize=20)\n",
    "ax = sns.barplot(x = 'usertype', y = 'tripduration', hue = 'Isweekday', order = ['Subscriber', 'Customer'], data = user_week_count, palette = 'hls')\n",
    "ax.set(xlabel = \"User Type\", ylabel = \"Trip Counts\")\n",
    "legend_labels, _= ax.get_legend_handles_labels()\n",
    "ax.legend(legend_labels, ['Weekday', \"Weekend\"])\n",
    "ax.xaxis.get_label().set_size(20)\n",
    "ax.yaxis.get_label().set_size(20)\n",
    "plt.show()"
   ]
  },
  {
   "cell_type": "code",
   "execution_count": null,
   "metadata": {},
   "outputs": [],
   "source": [
    "user_day = df.groupby(['usertype', 'dayofweek']).count()['tripduration'].reset_index()"
   ]
  },
  {
   "cell_type": "code",
   "execution_count": null,
   "metadata": {},
   "outputs": [],
   "source": [
    "user_day_cust = user_day[user_day['usertype'] == \"Customer\"]\n",
    "user_day_cust"
   ]
  },
  {
   "cell_type": "code",
   "execution_count": null,
   "metadata": {},
   "outputs": [],
   "source": [
    "user_day_sub = user_day[user_day['usertype'] == \"Subscriber\"]\n",
    "user_day_sub"
   ]
  },
  {
   "cell_type": "code",
   "execution_count": null,
   "metadata": {},
   "outputs": [],
   "source": [
    "col_num = 2\n",
    "row_num = 1\n",
    "fig, axes = plt.subplots(row_num, col_num, figsize=(16, 5))\n",
    "\n",
    "user_day_cust.columns = ['User Type', 'Days', 'Trip Counts']\n",
    "user_day_cust['Days'] = [\"Mon\", \"Tue\", \"Wed\", \"Thu\", \"Fri\", \"Sat\", \"Sun\"]\n",
    "plt.subplot(1, 2, 1)\n",
    "plt.title('Customer')\n",
    "plt.xticks(fontsize=12)\n",
    "plt.yticks(fontsize=12)\n",
    "sns.set_style('darkgrid')\n",
    "ax = sns.barplot('Days', 'Trip Counts',data = user_day_cust)\n",
    "\n",
    "user_day_sub.columns = ['User Type', 'Days', 'Trip Counts']\n",
    "user_day_sub['Days'] = [\"Mon\", \"Tue\", \"Wed\", \"Thu\", \"Fri\", \"Sat\", \"Sun\"]\n",
    "plt.subplot(1, 2, 2)\n",
    "plt.title('Subscriber')\n",
    "plt.xticks(fontsize=12)\n",
    "plt.yticks(fontsize=12)\n",
    "sns.set_style('darkgrid')\n",
    "ax = sns.barplot('Days', 'Trip Counts',data = user_day_sub)\n",
    "\n",
    "plt.show()"
   ]
  },
  {
   "cell_type": "markdown",
   "metadata": {},
   "source": [
    "# Most Popular Months by User Type"
   ]
  },
  {
   "cell_type": "code",
   "execution_count": null,
   "metadata": {},
   "outputs": [],
   "source": [
    "user_month = df.groupby(['usertype', 'month']).count()['tripduration'].reset_index()"
   ]
  },
  {
   "cell_type": "code",
   "execution_count": null,
   "metadata": {},
   "outputs": [],
   "source": [
    "user_month_cust = user_month[user_month['usertype'] == \"Customer\"]\n",
    "user_month_cust"
   ]
  },
  {
   "cell_type": "code",
   "execution_count": null,
   "metadata": {},
   "outputs": [],
   "source": [
    "user_month_sub = user_month[user_month['usertype'] == \"Subscriber\"]\n",
    "user_month_sub"
   ]
  },
  {
   "cell_type": "code",
   "execution_count": null,
   "metadata": {},
   "outputs": [],
   "source": [
    "col_num = 2\n",
    "row_num = 1\n",
    "fig, axes = plt.subplots(row_num, col_num, figsize=(16, 5))\n",
    "\n",
    "user_month_cust.columns = ['User Type', 'Months', 'Trip Counts']\n",
    "user_month_cust['Months'] = ['Jan', \"Feb\", 'Mar', 'Apr', 'May', 'June', 'July', 'Aug', 'Sep', 'Oct', 'Nov', 'Dec']\n",
    "plt.subplot(1, 2, 1)\n",
    "plt.title('Customer')\n",
    "plt.xticks(fontsize=12)\n",
    "plt.yticks(fontsize=12)\n",
    "sns.set_style('darkgrid')\n",
    "ax = sns.barplot('Months', 'Trip Counts',data = user_month_cust)\n",
    "\n",
    "user_month_sub.columns = ['User Type', 'Months', 'Trip Counts']\n",
    "user_month_sub['Months'] = ['Jan', \"Feb\", 'Mar', 'Apr', 'May', 'June', 'July', 'Aug', 'Sep', 'Oct', 'Nov', 'Dec']\n",
    "plt.subplot(1, 2, 2)\n",
    "plt.title('Subscriber')\n",
    "plt.xticks(fontsize=12)\n",
    "plt.yticks(fontsize=12)\n",
    "sns.set_style('darkgrid')\n",
    "ax = sns.barplot('Months', 'Trip Counts',data = user_month_sub)\n",
    "\n",
    "plt.show()"
   ]
  },
  {
   "cell_type": "markdown",
   "metadata": {},
   "source": [
    "# Most Popular Locations by User Type"
   ]
  },
  {
   "cell_type": "code",
   "execution_count": null,
   "metadata": {},
   "outputs": [],
   "source": []
  }
 ],
 "metadata": {
  "kernelspec": {
   "display_name": "Python 3",
   "language": "python",
   "name": "python3"
  },
  "language_info": {
   "codemirror_mode": {
    "name": "ipython",
    "version": 3
   },
   "file_extension": ".py",
   "mimetype": "text/x-python",
   "name": "python",
   "nbconvert_exporter": "python",
   "pygments_lexer": "ipython3",
   "version": "3.8.5"
  },
  "latex_envs": {
   "LaTeX_envs_menu_present": true,
   "autoclose": false,
   "autocomplete": true,
   "bibliofile": "biblio.bib",
   "cite_by": "apalike",
   "current_citInitial": 1,
   "eqLabelWithNumbers": true,
   "eqNumInitial": 1,
   "hotkeys": {
    "equation": "Ctrl-E",
    "itemize": "Ctrl-I"
   },
   "labels_anchors": false,
   "latex_user_defs": false,
   "report_style_numbering": false,
   "user_envs_cfg": false
  },
  "toc": {
   "base_numbering": 1,
   "nav_menu": {},
   "number_sections": true,
   "sideBar": true,
   "skip_h1_title": false,
   "title_cell": "Table of Contents",
   "title_sidebar": "Contents",
   "toc_cell": false,
   "toc_position": {},
   "toc_section_display": true,
   "toc_window_display": false
  },
  "varInspector": {
   "cols": {
    "lenName": 16,
    "lenType": 16,
    "lenVar": 40
   },
   "kernels_config": {
    "python": {
     "delete_cmd_postfix": "",
     "delete_cmd_prefix": "del ",
     "library": "var_list.py",
     "varRefreshCmd": "print(var_dic_list())"
    },
    "r": {
     "delete_cmd_postfix": ") ",
     "delete_cmd_prefix": "rm(",
     "library": "var_list.r",
     "varRefreshCmd": "cat(var_dic_list()) "
    }
   },
   "types_to_exclude": [
    "module",
    "function",
    "builtin_function_or_method",
    "instance",
    "_Feature"
   ],
   "window_display": false
  }
 },
 "nbformat": 4,
 "nbformat_minor": 4
}
