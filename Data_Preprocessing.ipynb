{
 "cells": [
  {
   "cell_type": "code",
   "execution_count": 1,
   "metadata": {},
   "outputs": [],
   "source": [
    "import pandas as pd\n",
    "import numpy as np\n",
    "import matplotlib.pyplot as plt\n",
    "%matplotlib inline\n",
    "import seaborn as sns\n",
    "import time\n",
    "from datetime import datetime\n",
    "import random"
   ]
  },
  {
   "cell_type": "code",
   "execution_count": 2,
   "metadata": {},
   "outputs": [
    {
     "name": "stdout",
     "output_type": "stream",
     "text": [
      "(20551697, 15)\n"
     ]
    }
   ],
   "source": [
    "# Loading csv files and combining them into dataframe\n",
    "data_files=['../data/201901-citibike-tripdata.csv',\n",
    "            '../data/201902-citibike-tripdata.csv',\n",
    "            '../data/201903-citibike-tripdata.csv',\n",
    "            '../data/201904-citibike-tripdata.csv',\n",
    "            '../data/201905-citibike-tripdata.csv',\n",
    "            '../data/201906-citibike-tripdata.csv',\n",
    "            '../data/201907-citibike-tripdata.csv',\n",
    "            '../data/201908-citibike-tripdata.csv',\n",
    "            '../data/201909-citibike-tripdata.csv',\n",
    "            '../data/201910-citibike-tripdata.csv',\n",
    "            '../data/201911-citibike-tripdata.csv',\n",
    "            '../data/201912-citibike-tripdata.csv']\n",
    "\n",
    "dfs = [pd.read_csv(f) for f in data_files]\n",
    "\n",
    "df = pd.concat(dfs,ignore_index=True)\n",
    "\n",
    "print(df.shape)"
   ]
  },
  {
   "cell_type": "code",
   "execution_count": 3,
   "metadata": {},
   "outputs": [],
   "source": [
    "df_sample = df.sample(frac=0.05, random_state = 42)"
   ]
  },
  {
   "cell_type": "code",
   "execution_count": 4,
   "metadata": {},
   "outputs": [
    {
     "name": "stdout",
     "output_type": "stream",
     "text": [
      "(20551697, 15)\n"
     ]
    }
   ],
   "source": [
    "print(df.shape)"
   ]
  },
  {
   "cell_type": "code",
   "execution_count": 5,
   "metadata": {},
   "outputs": [],
   "source": [
    "df1 = df_sample.copy()"
   ]
  },
  {
   "cell_type": "code",
   "execution_count": 6,
   "metadata": {},
   "outputs": [
    {
     "data": {
      "text/plain": [
       "tripduration                 int64\n",
       "starttime                   object\n",
       "stoptime                    object\n",
       "start station id           float64\n",
       "start station name          object\n",
       "start station latitude     float64\n",
       "start station longitude    float64\n",
       "end station id             float64\n",
       "end station name            object\n",
       "end station latitude       float64\n",
       "end station longitude      float64\n",
       "bikeid                       int64\n",
       "usertype                    object\n",
       "birth year                   int64\n",
       "gender                       int64\n",
       "dtype: object"
      ]
     },
     "execution_count": 6,
     "metadata": {},
     "output_type": "execute_result"
    }
   ],
   "source": [
    "df1.dtypes"
   ]
  },
  {
   "cell_type": "code",
   "execution_count": 7,
   "metadata": {},
   "outputs": [
    {
     "data": {
      "text/plain": [
       "tripduration               0\n",
       "starttime                  0\n",
       "stoptime                   0\n",
       "start station id           9\n",
       "start station name         9\n",
       "start station latitude     0\n",
       "start station longitude    0\n",
       "end station id             9\n",
       "end station name           9\n",
       "end station latitude       0\n",
       "end station longitude      0\n",
       "bikeid                     0\n",
       "usertype                   0\n",
       "birth year                 0\n",
       "gender                     0\n",
       "dtype: int64"
      ]
     },
     "execution_count": 7,
     "metadata": {},
     "output_type": "execute_result"
    }
   ],
   "source": [
    "df1.isnull().sum()"
   ]
  },
  {
   "cell_type": "markdown",
   "metadata": {},
   "source": [
    "# Convert to datetime"
   ]
  },
  {
   "cell_type": "code",
   "execution_count": 8,
   "metadata": {},
   "outputs": [],
   "source": [
    "df1['starttime'] = pd.to_datetime(df1['starttime'])\n",
    "df1['stoptime'] = pd.to_datetime(df1['stoptime'])\n",
    "df1.rename(columns={'start station id':'start_station_id', 'start station name':'start_station_name',\\\n",
    "                     'start station latitude':'start_station_latitude', 'start station longitude':'start_station_longitude',\\\n",
    "                     'end station id':'end_station_id', 'end station name':'end_station_name',\\\n",
    "                     'end station latitude':'end_station_latitude', 'end station longitude':'end_station_longitude'},\\\n",
    "             inplace=True)\n",
    "df1.dropna(inplace=True)\n",
    "df1['start_station_id'] = df1['start_station_id'].astype(int)\n",
    "df1['end_station_id'] = df1['end_station_id'].astype(int)\n",
    "df1['date'] = df1['starttime'].dt.strftime('%Y-%m-%d')\n",
    "df1['date'] = pd.to_datetime(df1['date'])\n",
    "df1['month'] = df1['date'].dt.strftime('%m')\n",
    "df1['day'] = df1['date'].dt.strftime('%d')\n",
    "df1['hour'] = df1['starttime'].dt.hour\n",
    "df1['age'] = 2020 - df1['birth year']"
   ]
  },
  {
   "cell_type": "code",
   "execution_count": 9,
   "metadata": {},
   "outputs": [
    {
     "data": {
      "text/html": [
       "<div>\n",
       "<style scoped>\n",
       "    .dataframe tbody tr th:only-of-type {\n",
       "        vertical-align: middle;\n",
       "    }\n",
       "\n",
       "    .dataframe tbody tr th {\n",
       "        vertical-align: top;\n",
       "    }\n",
       "\n",
       "    .dataframe thead th {\n",
       "        text-align: right;\n",
       "    }\n",
       "</style>\n",
       "<table border=\"1\" class=\"dataframe\">\n",
       "  <thead>\n",
       "    <tr style=\"text-align: right;\">\n",
       "      <th></th>\n",
       "      <th>tripduration</th>\n",
       "      <th>starttime</th>\n",
       "      <th>stoptime</th>\n",
       "      <th>start_station_id</th>\n",
       "      <th>start_station_name</th>\n",
       "      <th>start_station_latitude</th>\n",
       "      <th>start_station_longitude</th>\n",
       "      <th>end_station_id</th>\n",
       "      <th>end_station_name</th>\n",
       "      <th>end_station_latitude</th>\n",
       "      <th>end_station_longitude</th>\n",
       "      <th>bikeid</th>\n",
       "      <th>usertype</th>\n",
       "      <th>birth year</th>\n",
       "      <th>gender</th>\n",
       "      <th>date</th>\n",
       "      <th>month</th>\n",
       "      <th>day</th>\n",
       "      <th>hour</th>\n",
       "      <th>age</th>\n",
       "    </tr>\n",
       "  </thead>\n",
       "  <tbody>\n",
       "    <tr>\n",
       "      <th>18269504</th>\n",
       "      <td>447</td>\n",
       "      <td>2019-11-03 13:23:21.614</td>\n",
       "      <td>2019-11-03 13:30:48.617</td>\n",
       "      <td>3734</td>\n",
       "      <td>E 58 St &amp;  1 Ave (NW Corner)</td>\n",
       "      <td>40.759125</td>\n",
       "      <td>-73.962658</td>\n",
       "      <td>3156</td>\n",
       "      <td>E 72 St &amp; York Ave</td>\n",
       "      <td>40.766638</td>\n",
       "      <td>-73.953483</td>\n",
       "      <td>38451</td>\n",
       "      <td>Subscriber</td>\n",
       "      <td>1986</td>\n",
       "      <td>1</td>\n",
       "      <td>2019-11-03</td>\n",
       "      <td>11</td>\n",
       "      <td>03</td>\n",
       "      <td>13</td>\n",
       "      <td>34</td>\n",
       "    </tr>\n",
       "    <tr>\n",
       "      <th>6816941</th>\n",
       "      <td>1748</td>\n",
       "      <td>2019-05-30 11:43:48.035</td>\n",
       "      <td>2019-05-30 12:12:56.635</td>\n",
       "      <td>483</td>\n",
       "      <td>E 12 St &amp; 3 Ave</td>\n",
       "      <td>40.732233</td>\n",
       "      <td>-73.988900</td>\n",
       "      <td>460</td>\n",
       "      <td>S 4 St &amp; Wythe Ave</td>\n",
       "      <td>40.712859</td>\n",
       "      <td>-73.965903</td>\n",
       "      <td>31065</td>\n",
       "      <td>Subscriber</td>\n",
       "      <td>1964</td>\n",
       "      <td>1</td>\n",
       "      <td>2019-05-30</td>\n",
       "      <td>05</td>\n",
       "      <td>30</td>\n",
       "      <td>11</td>\n",
       "      <td>56</td>\n",
       "    </tr>\n",
       "    <tr>\n",
       "      <th>11696698</th>\n",
       "      <td>684</td>\n",
       "      <td>2019-08-06 18:56:42.449</td>\n",
       "      <td>2019-08-06 19:08:07.198</td>\n",
       "      <td>426</td>\n",
       "      <td>West St &amp; Chambers St</td>\n",
       "      <td>40.717548</td>\n",
       "      <td>-74.013221</td>\n",
       "      <td>368</td>\n",
       "      <td>Carmine St &amp; 6 Ave</td>\n",
       "      <td>40.730386</td>\n",
       "      <td>-74.002150</td>\n",
       "      <td>17112</td>\n",
       "      <td>Customer</td>\n",
       "      <td>1987</td>\n",
       "      <td>2</td>\n",
       "      <td>2019-08-06</td>\n",
       "      <td>08</td>\n",
       "      <td>06</td>\n",
       "      <td>18</td>\n",
       "      <td>33</td>\n",
       "    </tr>\n",
       "    <tr>\n",
       "      <th>15710480</th>\n",
       "      <td>561</td>\n",
       "      <td>2019-09-27 08:22:59.966</td>\n",
       "      <td>2019-09-27 08:32:21.772</td>\n",
       "      <td>267</td>\n",
       "      <td>Broadway &amp; W 36 St</td>\n",
       "      <td>40.750977</td>\n",
       "      <td>-73.987654</td>\n",
       "      <td>359</td>\n",
       "      <td>E 47 St &amp; Park Ave</td>\n",
       "      <td>40.755103</td>\n",
       "      <td>-73.974987</td>\n",
       "      <td>35233</td>\n",
       "      <td>Subscriber</td>\n",
       "      <td>1981</td>\n",
       "      <td>1</td>\n",
       "      <td>2019-09-27</td>\n",
       "      <td>09</td>\n",
       "      <td>27</td>\n",
       "      <td>8</td>\n",
       "      <td>39</td>\n",
       "    </tr>\n",
       "    <tr>\n",
       "      <th>14192919</th>\n",
       "      <td>1726</td>\n",
       "      <td>2019-09-09 16:49:42.482</td>\n",
       "      <td>2019-09-09 17:18:29.268</td>\n",
       "      <td>525</td>\n",
       "      <td>W 34 St &amp; 11 Ave</td>\n",
       "      <td>40.755942</td>\n",
       "      <td>-74.002116</td>\n",
       "      <td>337</td>\n",
       "      <td>Old Slip &amp; Front St</td>\n",
       "      <td>40.703799</td>\n",
       "      <td>-74.008387</td>\n",
       "      <td>25424</td>\n",
       "      <td>Subscriber</td>\n",
       "      <td>1977</td>\n",
       "      <td>1</td>\n",
       "      <td>2019-09-09</td>\n",
       "      <td>09</td>\n",
       "      <td>09</td>\n",
       "      <td>16</td>\n",
       "      <td>43</td>\n",
       "    </tr>\n",
       "  </tbody>\n",
       "</table>\n",
       "</div>"
      ],
      "text/plain": [
       "          tripduration               starttime                stoptime  \\\n",
       "18269504           447 2019-11-03 13:23:21.614 2019-11-03 13:30:48.617   \n",
       "6816941           1748 2019-05-30 11:43:48.035 2019-05-30 12:12:56.635   \n",
       "11696698           684 2019-08-06 18:56:42.449 2019-08-06 19:08:07.198   \n",
       "15710480           561 2019-09-27 08:22:59.966 2019-09-27 08:32:21.772   \n",
       "14192919          1726 2019-09-09 16:49:42.482 2019-09-09 17:18:29.268   \n",
       "\n",
       "          start_station_id            start_station_name  \\\n",
       "18269504              3734  E 58 St &  1 Ave (NW Corner)   \n",
       "6816941                483               E 12 St & 3 Ave   \n",
       "11696698               426         West St & Chambers St   \n",
       "15710480               267            Broadway & W 36 St   \n",
       "14192919               525              W 34 St & 11 Ave   \n",
       "\n",
       "          start_station_latitude  start_station_longitude  end_station_id  \\\n",
       "18269504               40.759125               -73.962658            3156   \n",
       "6816941                40.732233               -73.988900             460   \n",
       "11696698               40.717548               -74.013221             368   \n",
       "15710480               40.750977               -73.987654             359   \n",
       "14192919               40.755942               -74.002116             337   \n",
       "\n",
       "             end_station_name  end_station_latitude  end_station_longitude  \\\n",
       "18269504   E 72 St & York Ave             40.766638             -73.953483   \n",
       "6816941    S 4 St & Wythe Ave             40.712859             -73.965903   \n",
       "11696698   Carmine St & 6 Ave             40.730386             -74.002150   \n",
       "15710480   E 47 St & Park Ave             40.755103             -73.974987   \n",
       "14192919  Old Slip & Front St             40.703799             -74.008387   \n",
       "\n",
       "          bikeid    usertype  birth year  gender       date month day  hour  \\\n",
       "18269504   38451  Subscriber        1986       1 2019-11-03    11  03    13   \n",
       "6816941    31065  Subscriber        1964       1 2019-05-30    05  30    11   \n",
       "11696698   17112    Customer        1987       2 2019-08-06    08  06    18   \n",
       "15710480   35233  Subscriber        1981       1 2019-09-27    09  27     8   \n",
       "14192919   25424  Subscriber        1977       1 2019-09-09    09  09    16   \n",
       "\n",
       "          age  \n",
       "18269504   34  \n",
       "6816941    56  \n",
       "11696698   33  \n",
       "15710480   39  \n",
       "14192919   43  "
      ]
     },
     "execution_count": 9,
     "metadata": {},
     "output_type": "execute_result"
    }
   ],
   "source": [
    "df1.head()"
   ]
  },
  {
   "cell_type": "code",
   "execution_count": 10,
   "metadata": {},
   "outputs": [],
   "source": [
    "df1.to_csv('final.csv')"
   ]
  }
 ],
 "metadata": {
  "kernelspec": {
   "display_name": "Python 3",
   "language": "python",
   "name": "python3"
  },
  "language_info": {
   "codemirror_mode": {
    "name": "ipython",
    "version": 3
   },
   "file_extension": ".py",
   "mimetype": "text/x-python",
   "name": "python",
   "nbconvert_exporter": "python",
   "pygments_lexer": "ipython3",
   "version": "3.8.5"
  },
  "latex_envs": {
   "LaTeX_envs_menu_present": true,
   "autoclose": false,
   "autocomplete": true,
   "bibliofile": "biblio.bib",
   "cite_by": "apalike",
   "current_citInitial": 1,
   "eqLabelWithNumbers": true,
   "eqNumInitial": 1,
   "hotkeys": {
    "equation": "Ctrl-E",
    "itemize": "Ctrl-I"
   },
   "labels_anchors": false,
   "latex_user_defs": false,
   "report_style_numbering": false,
   "user_envs_cfg": false
  },
  "toc": {
   "base_numbering": 1,
   "nav_menu": {},
   "number_sections": true,
   "sideBar": true,
   "skip_h1_title": false,
   "title_cell": "Table of Contents",
   "title_sidebar": "Contents",
   "toc_cell": false,
   "toc_position": {},
   "toc_section_display": true,
   "toc_window_display": false
  },
  "varInspector": {
   "cols": {
    "lenName": 16,
    "lenType": 16,
    "lenVar": 40
   },
   "kernels_config": {
    "python": {
     "delete_cmd_postfix": "",
     "delete_cmd_prefix": "del ",
     "library": "var_list.py",
     "varRefreshCmd": "print(var_dic_list())"
    },
    "r": {
     "delete_cmd_postfix": ") ",
     "delete_cmd_prefix": "rm(",
     "library": "var_list.r",
     "varRefreshCmd": "cat(var_dic_list()) "
    }
   },
   "types_to_exclude": [
    "module",
    "function",
    "builtin_function_or_method",
    "instance",
    "_Feature"
   ],
   "window_display": false
  }
 },
 "nbformat": 4,
 "nbformat_minor": 4
}
