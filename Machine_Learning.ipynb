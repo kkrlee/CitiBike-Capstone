{
 "cells": [
  {
   "cell_type": "code",
   "execution_count": 1,
   "metadata": {},
   "outputs": [],
   "source": [
    "import os\n",
    "import pandas as pd\n",
    "import numpy as np\n",
    "import matplotlib.pyplot as plt\n",
    "import seaborn as sns\n",
    "%matplotlib inline\n",
    "import warnings\n",
    "warnings.filterwarnings('ignore')\n",
    "from sklearn.model_selection import train_test_split\n",
    "from sklearn.preprocessing import StandardScaler\n",
    "from sklearn.linear_model import LinearRegression\n",
    "from sklearn.linear_model import LogisticRegression\n",
    "from sklearn.tree import DecisionTreeClassifier\n",
    "from sklearn.metrics import r2_score, explained_variance_score, confusion_matrix, accuracy_score, classification_report, log_loss\n",
    "from math import sqrt\n",
    "\n",
    "# To change scientific numbers to float\n",
    "np.set_printoptions(formatter={'float_kind':'{:f}'.format})\n",
    "\n",
    "# Increases the size of sns plots\n",
    "sns.set(rc={'figure.figsize':(12,10)})"
   ]
  },
  {
   "cell_type": "markdown",
   "metadata": {},
   "source": [
    "# Loading the Data"
   ]
  },
  {
   "cell_type": "code",
   "execution_count": 2,
   "metadata": {},
   "outputs": [
    {
     "data": {
      "text/html": [
       "<div>\n",
       "<style scoped>\n",
       "    .dataframe tbody tr th:only-of-type {\n",
       "        vertical-align: middle;\n",
       "    }\n",
       "\n",
       "    .dataframe tbody tr th {\n",
       "        vertical-align: top;\n",
       "    }\n",
       "\n",
       "    .dataframe thead th {\n",
       "        text-align: right;\n",
       "    }\n",
       "</style>\n",
       "<table border=\"1\" class=\"dataframe\">\n",
       "  <thead>\n",
       "    <tr style=\"text-align: right;\">\n",
       "      <th></th>\n",
       "      <th>tripduration</th>\n",
       "      <th>start_station_id</th>\n",
       "      <th>start_station_name</th>\n",
       "      <th>start_station_latitude</th>\n",
       "      <th>start_station_longitude</th>\n",
       "      <th>end_station_id</th>\n",
       "      <th>end_station_name</th>\n",
       "      <th>end_station_latitude</th>\n",
       "      <th>end_station_longitude</th>\n",
       "      <th>bikeid</th>\n",
       "      <th>usertype</th>\n",
       "      <th>gender</th>\n",
       "      <th>month</th>\n",
       "      <th>day</th>\n",
       "      <th>hour</th>\n",
       "      <th>dayofweek</th>\n",
       "      <th>Isweekday</th>\n",
       "      <th>age</th>\n",
       "      <th>ages</th>\n",
       "    </tr>\n",
       "  </thead>\n",
       "  <tbody>\n",
       "    <tr>\n",
       "      <th>0</th>\n",
       "      <td>574</td>\n",
       "      <td>359</td>\n",
       "      <td>E 47 St &amp; Park Ave</td>\n",
       "      <td>40.755103</td>\n",
       "      <td>-73.974987</td>\n",
       "      <td>528</td>\n",
       "      <td>2 Ave &amp; E 31 St</td>\n",
       "      <td>40.742909</td>\n",
       "      <td>-73.977061</td>\n",
       "      <td>33216</td>\n",
       "      <td>Subscriber</td>\n",
       "      <td>1</td>\n",
       "      <td>1</td>\n",
       "      <td>30</td>\n",
       "      <td>17</td>\n",
       "      <td>3</td>\n",
       "      <td>1</td>\n",
       "      <td>27</td>\n",
       "      <td>20s</td>\n",
       "    </tr>\n",
       "    <tr>\n",
       "      <th>1</th>\n",
       "      <td>709</td>\n",
       "      <td>493</td>\n",
       "      <td>W 45 St &amp; 6 Ave</td>\n",
       "      <td>40.756800</td>\n",
       "      <td>-73.982912</td>\n",
       "      <td>3159</td>\n",
       "      <td>W 67 St &amp; Broadway</td>\n",
       "      <td>40.774925</td>\n",
       "      <td>-73.982666</td>\n",
       "      <td>16092</td>\n",
       "      <td>Subscriber</td>\n",
       "      <td>1</td>\n",
       "      <td>1</td>\n",
       "      <td>23</td>\n",
       "      <td>19</td>\n",
       "      <td>3</td>\n",
       "      <td>1</td>\n",
       "      <td>30</td>\n",
       "      <td>20s</td>\n",
       "    </tr>\n",
       "    <tr>\n",
       "      <th>2</th>\n",
       "      <td>1993</td>\n",
       "      <td>503</td>\n",
       "      <td>E 20 St &amp; Park Ave</td>\n",
       "      <td>40.738274</td>\n",
       "      <td>-73.987520</td>\n",
       "      <td>3709</td>\n",
       "      <td>W 15 St &amp; 6 Ave</td>\n",
       "      <td>40.738046</td>\n",
       "      <td>-73.996430</td>\n",
       "      <td>34868</td>\n",
       "      <td>Subscriber</td>\n",
       "      <td>1</td>\n",
       "      <td>1</td>\n",
       "      <td>26</td>\n",
       "      <td>18</td>\n",
       "      <td>6</td>\n",
       "      <td>0</td>\n",
       "      <td>43</td>\n",
       "      <td>40s</td>\n",
       "    </tr>\n",
       "    <tr>\n",
       "      <th>3</th>\n",
       "      <td>392</td>\n",
       "      <td>161</td>\n",
       "      <td>LaGuardia Pl &amp; W 3 St</td>\n",
       "      <td>40.729170</td>\n",
       "      <td>-73.998102</td>\n",
       "      <td>438</td>\n",
       "      <td>St Marks Pl &amp; 1 Ave</td>\n",
       "      <td>40.727791</td>\n",
       "      <td>-73.985649</td>\n",
       "      <td>31405</td>\n",
       "      <td>Subscriber</td>\n",
       "      <td>1</td>\n",
       "      <td>1</td>\n",
       "      <td>5</td>\n",
       "      <td>18</td>\n",
       "      <td>6</td>\n",
       "      <td>0</td>\n",
       "      <td>24</td>\n",
       "      <td>20s</td>\n",
       "    </tr>\n",
       "    <tr>\n",
       "      <th>4</th>\n",
       "      <td>543</td>\n",
       "      <td>3496</td>\n",
       "      <td>1 Ave &amp; E 110 St</td>\n",
       "      <td>40.792327</td>\n",
       "      <td>-73.938300</td>\n",
       "      <td>3671</td>\n",
       "      <td>E 81 St &amp; 2 Ave</td>\n",
       "      <td>40.774779</td>\n",
       "      <td>-73.954275</td>\n",
       "      <td>35695</td>\n",
       "      <td>Subscriber</td>\n",
       "      <td>1</td>\n",
       "      <td>1</td>\n",
       "      <td>23</td>\n",
       "      <td>15</td>\n",
       "      <td>3</td>\n",
       "      <td>1</td>\n",
       "      <td>22</td>\n",
       "      <td>20s</td>\n",
       "    </tr>\n",
       "  </tbody>\n",
       "</table>\n",
       "</div>"
      ],
      "text/plain": [
       "   tripduration  start_station_id     start_station_name  \\\n",
       "0           574               359     E 47 St & Park Ave   \n",
       "1           709               493        W 45 St & 6 Ave   \n",
       "2          1993               503     E 20 St & Park Ave   \n",
       "3           392               161  LaGuardia Pl & W 3 St   \n",
       "4           543              3496       1 Ave & E 110 St   \n",
       "\n",
       "   start_station_latitude  start_station_longitude  end_station_id  \\\n",
       "0               40.755103               -73.974987             528   \n",
       "1               40.756800               -73.982912            3159   \n",
       "2               40.738274               -73.987520            3709   \n",
       "3               40.729170               -73.998102             438   \n",
       "4               40.792327               -73.938300            3671   \n",
       "\n",
       "      end_station_name  end_station_latitude  end_station_longitude  bikeid  \\\n",
       "0      2 Ave & E 31 St             40.742909             -73.977061   33216   \n",
       "1   W 67 St & Broadway             40.774925             -73.982666   16092   \n",
       "2      W 15 St & 6 Ave             40.738046             -73.996430   34868   \n",
       "3  St Marks Pl & 1 Ave             40.727791             -73.985649   31405   \n",
       "4      E 81 St & 2 Ave             40.774779             -73.954275   35695   \n",
       "\n",
       "     usertype  gender  month  day  hour  dayofweek  Isweekday  age ages  \n",
       "0  Subscriber       1      1   30    17          3          1   27  20s  \n",
       "1  Subscriber       1      1   23    19          3          1   30  20s  \n",
       "2  Subscriber       1      1   26    18          6          0   43  40s  \n",
       "3  Subscriber       1      1    5    18          6          0   24  20s  \n",
       "4  Subscriber       1      1   23    15          3          1   22  20s  "
      ]
     },
     "execution_count": 2,
     "metadata": {},
     "output_type": "execute_result"
    }
   ],
   "source": [
    "# Loading the data\n",
    "df = pd.read_csv(\"../data/final.csv\")\n",
    "df.drop([\"Unnamed: 0\", 'birth year', 'date', 'starttime', 'stoptime'], inplace=True, axis=1)\n",
    "df.head()"
   ]
  },
  {
   "cell_type": "code",
   "execution_count": 3,
   "metadata": {},
   "outputs": [
    {
     "data": {
      "text/html": [
       "<div>\n",
       "<style scoped>\n",
       "    .dataframe tbody tr th:only-of-type {\n",
       "        vertical-align: middle;\n",
       "    }\n",
       "\n",
       "    .dataframe tbody tr th {\n",
       "        vertical-align: top;\n",
       "    }\n",
       "\n",
       "    .dataframe thead th {\n",
       "        text-align: right;\n",
       "    }\n",
       "</style>\n",
       "<table border=\"1\" class=\"dataframe\">\n",
       "  <thead>\n",
       "    <tr style=\"text-align: right;\">\n",
       "      <th></th>\n",
       "      <th>tripduration</th>\n",
       "      <th>start_station_id</th>\n",
       "      <th>start_station_latitude</th>\n",
       "      <th>start_station_longitude</th>\n",
       "      <th>end_station_id</th>\n",
       "      <th>end_station_latitude</th>\n",
       "      <th>end_station_longitude</th>\n",
       "      <th>bikeid</th>\n",
       "      <th>usertype</th>\n",
       "      <th>gender</th>\n",
       "      <th>month</th>\n",
       "      <th>hour</th>\n",
       "      <th>dayofweek</th>\n",
       "      <th>Isweekday</th>\n",
       "      <th>ages</th>\n",
       "    </tr>\n",
       "  </thead>\n",
       "  <tbody>\n",
       "    <tr>\n",
       "      <th>0</th>\n",
       "      <td>574</td>\n",
       "      <td>359</td>\n",
       "      <td>40.755103</td>\n",
       "      <td>-73.974987</td>\n",
       "      <td>528</td>\n",
       "      <td>40.742909</td>\n",
       "      <td>-73.977061</td>\n",
       "      <td>33216</td>\n",
       "      <td>0</td>\n",
       "      <td>1</td>\n",
       "      <td>1</td>\n",
       "      <td>17</td>\n",
       "      <td>3</td>\n",
       "      <td>1</td>\n",
       "      <td>20s</td>\n",
       "    </tr>\n",
       "    <tr>\n",
       "      <th>1</th>\n",
       "      <td>709</td>\n",
       "      <td>493</td>\n",
       "      <td>40.756800</td>\n",
       "      <td>-73.982912</td>\n",
       "      <td>3159</td>\n",
       "      <td>40.774925</td>\n",
       "      <td>-73.982666</td>\n",
       "      <td>16092</td>\n",
       "      <td>0</td>\n",
       "      <td>1</td>\n",
       "      <td>1</td>\n",
       "      <td>19</td>\n",
       "      <td>3</td>\n",
       "      <td>1</td>\n",
       "      <td>20s</td>\n",
       "    </tr>\n",
       "    <tr>\n",
       "      <th>2</th>\n",
       "      <td>1993</td>\n",
       "      <td>503</td>\n",
       "      <td>40.738274</td>\n",
       "      <td>-73.987520</td>\n",
       "      <td>3709</td>\n",
       "      <td>40.738046</td>\n",
       "      <td>-73.996430</td>\n",
       "      <td>34868</td>\n",
       "      <td>0</td>\n",
       "      <td>1</td>\n",
       "      <td>1</td>\n",
       "      <td>18</td>\n",
       "      <td>6</td>\n",
       "      <td>0</td>\n",
       "      <td>40s</td>\n",
       "    </tr>\n",
       "    <tr>\n",
       "      <th>3</th>\n",
       "      <td>392</td>\n",
       "      <td>161</td>\n",
       "      <td>40.729170</td>\n",
       "      <td>-73.998102</td>\n",
       "      <td>438</td>\n",
       "      <td>40.727791</td>\n",
       "      <td>-73.985649</td>\n",
       "      <td>31405</td>\n",
       "      <td>0</td>\n",
       "      <td>1</td>\n",
       "      <td>1</td>\n",
       "      <td>18</td>\n",
       "      <td>6</td>\n",
       "      <td>0</td>\n",
       "      <td>20s</td>\n",
       "    </tr>\n",
       "    <tr>\n",
       "      <th>4</th>\n",
       "      <td>543</td>\n",
       "      <td>3496</td>\n",
       "      <td>40.792327</td>\n",
       "      <td>-73.938300</td>\n",
       "      <td>3671</td>\n",
       "      <td>40.774779</td>\n",
       "      <td>-73.954275</td>\n",
       "      <td>35695</td>\n",
       "      <td>0</td>\n",
       "      <td>1</td>\n",
       "      <td>1</td>\n",
       "      <td>15</td>\n",
       "      <td>3</td>\n",
       "      <td>1</td>\n",
       "      <td>20s</td>\n",
       "    </tr>\n",
       "  </tbody>\n",
       "</table>\n",
       "</div>"
      ],
      "text/plain": [
       "   tripduration  start_station_id  start_station_latitude  \\\n",
       "0           574               359               40.755103   \n",
       "1           709               493               40.756800   \n",
       "2          1993               503               40.738274   \n",
       "3           392               161               40.729170   \n",
       "4           543              3496               40.792327   \n",
       "\n",
       "   start_station_longitude  end_station_id  end_station_latitude  \\\n",
       "0               -73.974987             528             40.742909   \n",
       "1               -73.982912            3159             40.774925   \n",
       "2               -73.987520            3709             40.738046   \n",
       "3               -73.998102             438             40.727791   \n",
       "4               -73.938300            3671             40.774779   \n",
       "\n",
       "   end_station_longitude  bikeid  usertype  gender  month  hour  dayofweek  \\\n",
       "0             -73.977061   33216         0       1      1    17          3   \n",
       "1             -73.982666   16092         0       1      1    19          3   \n",
       "2             -73.996430   34868         0       1      1    18          6   \n",
       "3             -73.985649   31405         0       1      1    18          6   \n",
       "4             -73.954275   35695         0       1      1    15          3   \n",
       "\n",
       "   Isweekday ages  \n",
       "0          1  20s  \n",
       "1          1  20s  \n",
       "2          0  40s  \n",
       "3          0  20s  \n",
       "4          1  20s  "
      ]
     },
     "execution_count": 3,
     "metadata": {},
     "output_type": "execute_result"
    }
   ],
   "source": [
    "# Drop Irrelevant Data\n",
    "df.drop([\"start_station_name\", \"end_station_name\", 'day', 'age'], axis=1, inplace=True)\n",
    "df['usertype'] = df['usertype'].map({'Subscriber': 0, \"Customer\":1})\n",
    "df.head()"
   ]
  },
  {
   "cell_type": "code",
   "execution_count": 4,
   "metadata": {},
   "outputs": [
    {
     "name": "stdout",
     "output_type": "stream",
     "text": [
      "The number of values for feature tripduration is: 8811\n",
      "The number of values for feature start_station_id is: 926\n",
      "The number of values for feature start_station_latitude is: 933\n",
      "The number of values for feature start_station_longitude is: 933\n",
      "The number of values for feature end_station_id is: 933\n",
      "The number of values for feature end_station_latitude is: 940\n",
      "The number of values for feature end_station_longitude is: 941\n",
      "The number of values for feature bikeid is: 19404\n",
      "The number of values for feature usertype is: 2 -- [0 1]\n",
      "The number of values for feature gender is: 3 -- [0 1 2]\n",
      "The number of values for feature month is: 12\n",
      "The number of values for feature hour is: 24\n",
      "The number of values for feature dayofweek is: 7 -- [1 2 3 4 5 6 7]\n",
      "The number of values for feature Isweekday is: 2 -- [0 1]\n",
      "The number of values for feature ages is: 6 -- ['10s' '20s' '30s' '40s' '50s' '60s']\n"
     ]
    }
   ],
   "source": [
    "# Investigate all the elements whithin each Feature \n",
    "\n",
    "for column in df:\n",
    "    unique_values = np.unique(df[column])\n",
    "    nr_values = len(unique_values)\n",
    "    if nr_values <= 10:\n",
    "        print(\"The number of values for feature {} is: {} -- {}\".format(column, nr_values, unique_values))\n",
    "    else:\n",
    "        print(\"The number of values for feature {} is: {}\".format(column, nr_values))"
   ]
  },
  {
   "cell_type": "code",
   "execution_count": 5,
   "metadata": {},
   "outputs": [
    {
     "data": {
      "text/plain": [
       "tripduration                 int64\n",
       "start_station_id             int64\n",
       "start_station_latitude     float64\n",
       "start_station_longitude    float64\n",
       "end_station_id               int64\n",
       "end_station_latitude       float64\n",
       "end_station_longitude      float64\n",
       "bikeid                       int64\n",
       "usertype                     int64\n",
       "gender                       int64\n",
       "month                        int64\n",
       "hour                         int64\n",
       "dayofweek                    int64\n",
       "Isweekday                    int64\n",
       "ages                        object\n",
       "dtype: object"
      ]
     },
     "execution_count": 5,
     "metadata": {},
     "output_type": "execute_result"
    }
   ],
   "source": [
    "df.dtypes"
   ]
  },
  {
   "cell_type": "markdown",
   "metadata": {},
   "source": [
    "## Data Cleaning"
   ]
  },
  {
   "cell_type": "code",
   "execution_count": 6,
   "metadata": {
    "scrolled": true
   },
   "outputs": [
    {
     "name": "stdout",
     "output_type": "stream",
     "text": [
      "(1027567, 15)\n",
      "(1027567, 20)\n"
     ]
    },
    {
     "data": {
      "text/html": [
       "<div>\n",
       "<style scoped>\n",
       "    .dataframe tbody tr th:only-of-type {\n",
       "        vertical-align: middle;\n",
       "    }\n",
       "\n",
       "    .dataframe tbody tr th {\n",
       "        vertical-align: top;\n",
       "    }\n",
       "\n",
       "    .dataframe thead th {\n",
       "        text-align: right;\n",
       "    }\n",
       "</style>\n",
       "<table border=\"1\" class=\"dataframe\">\n",
       "  <thead>\n",
       "    <tr style=\"text-align: right;\">\n",
       "      <th></th>\n",
       "      <th>tripduration</th>\n",
       "      <th>start_station_id</th>\n",
       "      <th>start_station_latitude</th>\n",
       "      <th>start_station_longitude</th>\n",
       "      <th>end_station_id</th>\n",
       "      <th>end_station_latitude</th>\n",
       "      <th>end_station_longitude</th>\n",
       "      <th>bikeid</th>\n",
       "      <th>usertype</th>\n",
       "      <th>gender</th>\n",
       "      <th>month</th>\n",
       "      <th>hour</th>\n",
       "      <th>dayofweek</th>\n",
       "      <th>Isweekday</th>\n",
       "      <th>ages_10s</th>\n",
       "      <th>ages_20s</th>\n",
       "      <th>ages_30s</th>\n",
       "      <th>ages_40s</th>\n",
       "      <th>ages_50s</th>\n",
       "      <th>ages_60s</th>\n",
       "    </tr>\n",
       "  </thead>\n",
       "  <tbody>\n",
       "    <tr>\n",
       "      <th>0</th>\n",
       "      <td>574</td>\n",
       "      <td>359</td>\n",
       "      <td>40.755103</td>\n",
       "      <td>-73.974987</td>\n",
       "      <td>528</td>\n",
       "      <td>40.742909</td>\n",
       "      <td>-73.977061</td>\n",
       "      <td>33216</td>\n",
       "      <td>0</td>\n",
       "      <td>1</td>\n",
       "      <td>1</td>\n",
       "      <td>17</td>\n",
       "      <td>3</td>\n",
       "      <td>1</td>\n",
       "      <td>0</td>\n",
       "      <td>1</td>\n",
       "      <td>0</td>\n",
       "      <td>0</td>\n",
       "      <td>0</td>\n",
       "      <td>0</td>\n",
       "    </tr>\n",
       "    <tr>\n",
       "      <th>1</th>\n",
       "      <td>709</td>\n",
       "      <td>493</td>\n",
       "      <td>40.756800</td>\n",
       "      <td>-73.982912</td>\n",
       "      <td>3159</td>\n",
       "      <td>40.774925</td>\n",
       "      <td>-73.982666</td>\n",
       "      <td>16092</td>\n",
       "      <td>0</td>\n",
       "      <td>1</td>\n",
       "      <td>1</td>\n",
       "      <td>19</td>\n",
       "      <td>3</td>\n",
       "      <td>1</td>\n",
       "      <td>0</td>\n",
       "      <td>1</td>\n",
       "      <td>0</td>\n",
       "      <td>0</td>\n",
       "      <td>0</td>\n",
       "      <td>0</td>\n",
       "    </tr>\n",
       "    <tr>\n",
       "      <th>2</th>\n",
       "      <td>1993</td>\n",
       "      <td>503</td>\n",
       "      <td>40.738274</td>\n",
       "      <td>-73.987520</td>\n",
       "      <td>3709</td>\n",
       "      <td>40.738046</td>\n",
       "      <td>-73.996430</td>\n",
       "      <td>34868</td>\n",
       "      <td>0</td>\n",
       "      <td>1</td>\n",
       "      <td>1</td>\n",
       "      <td>18</td>\n",
       "      <td>6</td>\n",
       "      <td>0</td>\n",
       "      <td>0</td>\n",
       "      <td>0</td>\n",
       "      <td>0</td>\n",
       "      <td>1</td>\n",
       "      <td>0</td>\n",
       "      <td>0</td>\n",
       "    </tr>\n",
       "    <tr>\n",
       "      <th>3</th>\n",
       "      <td>392</td>\n",
       "      <td>161</td>\n",
       "      <td>40.729170</td>\n",
       "      <td>-73.998102</td>\n",
       "      <td>438</td>\n",
       "      <td>40.727791</td>\n",
       "      <td>-73.985649</td>\n",
       "      <td>31405</td>\n",
       "      <td>0</td>\n",
       "      <td>1</td>\n",
       "      <td>1</td>\n",
       "      <td>18</td>\n",
       "      <td>6</td>\n",
       "      <td>0</td>\n",
       "      <td>0</td>\n",
       "      <td>1</td>\n",
       "      <td>0</td>\n",
       "      <td>0</td>\n",
       "      <td>0</td>\n",
       "      <td>0</td>\n",
       "    </tr>\n",
       "    <tr>\n",
       "      <th>4</th>\n",
       "      <td>543</td>\n",
       "      <td>3496</td>\n",
       "      <td>40.792327</td>\n",
       "      <td>-73.938300</td>\n",
       "      <td>3671</td>\n",
       "      <td>40.774779</td>\n",
       "      <td>-73.954275</td>\n",
       "      <td>35695</td>\n",
       "      <td>0</td>\n",
       "      <td>1</td>\n",
       "      <td>1</td>\n",
       "      <td>15</td>\n",
       "      <td>3</td>\n",
       "      <td>1</td>\n",
       "      <td>0</td>\n",
       "      <td>1</td>\n",
       "      <td>0</td>\n",
       "      <td>0</td>\n",
       "      <td>0</td>\n",
       "      <td>0</td>\n",
       "    </tr>\n",
       "  </tbody>\n",
       "</table>\n",
       "</div>"
      ],
      "text/plain": [
       "   tripduration  start_station_id  start_station_latitude  \\\n",
       "0           574               359               40.755103   \n",
       "1           709               493               40.756800   \n",
       "2          1993               503               40.738274   \n",
       "3           392               161               40.729170   \n",
       "4           543              3496               40.792327   \n",
       "\n",
       "   start_station_longitude  end_station_id  end_station_latitude  \\\n",
       "0               -73.974987             528             40.742909   \n",
       "1               -73.982912            3159             40.774925   \n",
       "2               -73.987520            3709             40.738046   \n",
       "3               -73.998102             438             40.727791   \n",
       "4               -73.938300            3671             40.774779   \n",
       "\n",
       "   end_station_longitude  bikeid  usertype  gender  month  hour  dayofweek  \\\n",
       "0             -73.977061   33216         0       1      1    17          3   \n",
       "1             -73.982666   16092         0       1      1    19          3   \n",
       "2             -73.996430   34868         0       1      1    18          6   \n",
       "3             -73.985649   31405         0       1      1    18          6   \n",
       "4             -73.954275   35695         0       1      1    15          3   \n",
       "\n",
       "   Isweekday  ages_10s  ages_20s  ages_30s  ages_40s  ages_50s  ages_60s  \n",
       "0          1         0         1         0         0         0         0  \n",
       "1          1         0         1         0         0         0         0  \n",
       "2          0         0         0         0         1         0         0  \n",
       "3          0         0         1         0         0         0         0  \n",
       "4          1         0         1         0         0         0         0  "
      ]
     },
     "execution_count": 6,
     "metadata": {},
     "output_type": "execute_result"
    }
   ],
   "source": [
    "# Making categorical variables into numeric representation\n",
    "features = ['ages']\n",
    "new_df = pd.get_dummies(df, columns = features)\n",
    "\n",
    "print(df.shape)\n",
    "# print the shape\n",
    "print(new_df.shape)\n",
    "\n",
    "# Visualizing the data\n",
    "new_df.head()"
   ]
  },
  {
   "cell_type": "markdown",
   "metadata": {},
   "source": [
    "Notes:\n",
    "\n",
    "We do not need to normalize / standardize the data in Logistic Regression due to the logistic function (0 or 1)\n",
    "\n",
    "\n",
    "Once a value crosses the decision boundary (0.5 threshold), it saturates\n",
    "\n",
    "\n",
    "After the 0.5 or before, there is no additional value to be added from smaller or larger values"
   ]
  },
  {
   "cell_type": "markdown",
   "metadata": {},
   "source": [
    "## Feature Selection"
   ]
  },
  {
   "cell_type": "code",
   "execution_count": 7,
   "metadata": {},
   "outputs": [
    {
     "name": "stdout",
     "output_type": "stream",
     "text": [
      "(1027567, 19)\n",
      "(1027567,)\n"
     ]
    }
   ],
   "source": [
    "# Split the data into X & y\n",
    "\n",
    "#Predictor variable\n",
    "X = new_df.drop('usertype', axis = 1).values\n",
    "#Target variable\n",
    "y = new_df['usertype']\n",
    "\n",
    "print(X.shape)\n",
    "print(y.shape)"
   ]
  },
  {
   "cell_type": "code",
   "execution_count": 8,
   "metadata": {},
   "outputs": [
    {
     "data": {
      "text/plain": [
       "DecisionTreeClassifier(criterion='entropy', max_depth=50, random_state=42)"
      ]
     },
     "execution_count": 8,
     "metadata": {},
     "output_type": "execute_result"
    }
   ],
   "source": [
    "# Run a Tree-based estimators (i.e. decision trees & random forests)\n",
    "dt = DecisionTreeClassifier(random_state=42, criterion = 'entropy', max_depth = 50)\n",
    "dt.fit(X,y)"
   ]
  },
  {
   "cell_type": "code",
   "execution_count": 9,
   "metadata": {},
   "outputs": [
    {
     "name": "stdout",
     "output_type": "stream",
     "text": [
      "The feature importance for tripduration is : 0.15186225002173218\n",
      "The feature importance for start_station_id is : 0.054617779049888245\n",
      "The feature importance for start_station_latitude is : 0.0593823331862351\n",
      "The feature importance for start_station_longitude is : 0.060654330490784635\n",
      "The feature importance for end_station_id is : 0.05407689417933717\n",
      "The feature importance for end_station_latitude is : 0.060357300407495026\n",
      "The feature importance for end_station_longitude is : 0.06141792847682258\n",
      "The feature importance for bikeid is : 0.08434321343060874\n",
      "The feature importance for gender is : 0.24345448828821686\n",
      "The feature importance for month is : 0.03578882076631437\n",
      "The feature importance for hour is : 0.04687942490646816\n",
      "The feature importance for dayofweek is : 0.030847076778457105\n",
      "The feature importance for Isweekday is : 0.002895647513480057\n",
      "The feature importance for ages_10s is : 0.009948076403900481\n",
      "The feature importance for ages_20s is : 0.015674600924995816\n",
      "The feature importance for ages_30s is : 0.004859121440559968\n",
      "The feature importance for ages_40s is : 0.001212490361842629\n",
      "The feature importance for ages_50s is : 0.02048375643893553\n",
      "The feature importance for ages_60s is : 0.0012444669339253763\n"
     ]
    }
   ],
   "source": [
    "# Running Feature Importance\n",
    "\n",
    "fi_col = []\n",
    "fi = []\n",
    "\n",
    "for i,column in enumerate(new_df.drop('usertype', axis = 1)):\n",
    "    print('The feature importance for {} is : {}'.format(column, dt.feature_importances_[i]))\n",
    "    \n",
    "    fi_col.append(column)\n",
    "    fi.append(dt.feature_importances_[i])"
   ]
  },
  {
   "cell_type": "code",
   "execution_count": 10,
   "metadata": {},
   "outputs": [
    {
     "data": {
      "text/html": [
       "<div>\n",
       "<style scoped>\n",
       "    .dataframe tbody tr th:only-of-type {\n",
       "        vertical-align: middle;\n",
       "    }\n",
       "\n",
       "    .dataframe tbody tr th {\n",
       "        vertical-align: top;\n",
       "    }\n",
       "\n",
       "    .dataframe thead th {\n",
       "        text-align: right;\n",
       "    }\n",
       "</style>\n",
       "<table border=\"1\" class=\"dataframe\">\n",
       "  <thead>\n",
       "    <tr style=\"text-align: right;\">\n",
       "      <th></th>\n",
       "      <th>index</th>\n",
       "      <th>Feature</th>\n",
       "      <th>Feature Importance</th>\n",
       "    </tr>\n",
       "  </thead>\n",
       "  <tbody>\n",
       "    <tr>\n",
       "      <th>0</th>\n",
       "      <td>8</td>\n",
       "      <td>gender</td>\n",
       "      <td>0.243454</td>\n",
       "    </tr>\n",
       "    <tr>\n",
       "      <th>1</th>\n",
       "      <td>0</td>\n",
       "      <td>tripduration</td>\n",
       "      <td>0.151862</td>\n",
       "    </tr>\n",
       "    <tr>\n",
       "      <th>2</th>\n",
       "      <td>7</td>\n",
       "      <td>bikeid</td>\n",
       "      <td>0.084343</td>\n",
       "    </tr>\n",
       "    <tr>\n",
       "      <th>3</th>\n",
       "      <td>6</td>\n",
       "      <td>end_station_longitude</td>\n",
       "      <td>0.061418</td>\n",
       "    </tr>\n",
       "    <tr>\n",
       "      <th>4</th>\n",
       "      <td>3</td>\n",
       "      <td>start_station_longitude</td>\n",
       "      <td>0.060654</td>\n",
       "    </tr>\n",
       "    <tr>\n",
       "      <th>5</th>\n",
       "      <td>5</td>\n",
       "      <td>end_station_latitude</td>\n",
       "      <td>0.060357</td>\n",
       "    </tr>\n",
       "    <tr>\n",
       "      <th>6</th>\n",
       "      <td>2</td>\n",
       "      <td>start_station_latitude</td>\n",
       "      <td>0.059382</td>\n",
       "    </tr>\n",
       "    <tr>\n",
       "      <th>7</th>\n",
       "      <td>1</td>\n",
       "      <td>start_station_id</td>\n",
       "      <td>0.054618</td>\n",
       "    </tr>\n",
       "    <tr>\n",
       "      <th>8</th>\n",
       "      <td>4</td>\n",
       "      <td>end_station_id</td>\n",
       "      <td>0.054077</td>\n",
       "    </tr>\n",
       "    <tr>\n",
       "      <th>9</th>\n",
       "      <td>10</td>\n",
       "      <td>hour</td>\n",
       "      <td>0.046879</td>\n",
       "    </tr>\n",
       "    <tr>\n",
       "      <th>10</th>\n",
       "      <td>9</td>\n",
       "      <td>month</td>\n",
       "      <td>0.035789</td>\n",
       "    </tr>\n",
       "    <tr>\n",
       "      <th>11</th>\n",
       "      <td>11</td>\n",
       "      <td>dayofweek</td>\n",
       "      <td>0.030847</td>\n",
       "    </tr>\n",
       "    <tr>\n",
       "      <th>12</th>\n",
       "      <td>17</td>\n",
       "      <td>ages_50s</td>\n",
       "      <td>0.020484</td>\n",
       "    </tr>\n",
       "    <tr>\n",
       "      <th>13</th>\n",
       "      <td>14</td>\n",
       "      <td>ages_20s</td>\n",
       "      <td>0.015675</td>\n",
       "    </tr>\n",
       "    <tr>\n",
       "      <th>14</th>\n",
       "      <td>13</td>\n",
       "      <td>ages_10s</td>\n",
       "      <td>0.009948</td>\n",
       "    </tr>\n",
       "    <tr>\n",
       "      <th>15</th>\n",
       "      <td>15</td>\n",
       "      <td>ages_30s</td>\n",
       "      <td>0.004859</td>\n",
       "    </tr>\n",
       "    <tr>\n",
       "      <th>16</th>\n",
       "      <td>12</td>\n",
       "      <td>Isweekday</td>\n",
       "      <td>0.002896</td>\n",
       "    </tr>\n",
       "    <tr>\n",
       "      <th>17</th>\n",
       "      <td>18</td>\n",
       "      <td>ages_60s</td>\n",
       "      <td>0.001244</td>\n",
       "    </tr>\n",
       "    <tr>\n",
       "      <th>18</th>\n",
       "      <td>16</td>\n",
       "      <td>ages_40s</td>\n",
       "      <td>0.001212</td>\n",
       "    </tr>\n",
       "  </tbody>\n",
       "</table>\n",
       "</div>"
      ],
      "text/plain": [
       "    index                  Feature  Feature Importance\n",
       "0       8                   gender            0.243454\n",
       "1       0             tripduration            0.151862\n",
       "2       7                   bikeid            0.084343\n",
       "3       6    end_station_longitude            0.061418\n",
       "4       3  start_station_longitude            0.060654\n",
       "5       5     end_station_latitude            0.060357\n",
       "6       2   start_station_latitude            0.059382\n",
       "7       1         start_station_id            0.054618\n",
       "8       4           end_station_id            0.054077\n",
       "9      10                     hour            0.046879\n",
       "10      9                    month            0.035789\n",
       "11     11                dayofweek            0.030847\n",
       "12     17                 ages_50s            0.020484\n",
       "13     14                 ages_20s            0.015675\n",
       "14     13                 ages_10s            0.009948\n",
       "15     15                 ages_30s            0.004859\n",
       "16     12                Isweekday            0.002896\n",
       "17     18                 ages_60s            0.001244\n",
       "18     16                 ages_40s            0.001212"
      ]
     },
     "execution_count": 10,
     "metadata": {},
     "output_type": "execute_result"
    }
   ],
   "source": [
    "# Creating a Dataframe\n",
    "fi_col\n",
    "fi\n",
    "\n",
    "fi_df = zip(fi_col, fi)\n",
    "fi_df = pd.DataFrame(fi_df, columns = ['Feature','Feature Importance'])\n",
    "fi_df\n",
    "\n",
    "\n",
    "# Ordering the data\n",
    "fi_df = fi_df.sort_values('Feature Importance', ascending = False).reset_index()\n",
    "\n",
    "fi_df"
   ]
  },
  {
   "cell_type": "markdown",
   "metadata": {},
   "source": [
    "# Splitting the Data"
   ]
  },
  {
   "cell_type": "code",
   "execution_count": 11,
   "metadata": {},
   "outputs": [
    {
     "name": "stdout",
     "output_type": "stream",
     "text": [
      "(822053, 19)\n",
      "(205514, 19)\n",
      "(822053,)\n",
      "(205514,)\n"
     ]
    }
   ],
   "source": [
    "X_train, X_test, y_train, y_test = train_test_split(X, y, train_size = 0.8, test_size=0.2, random_state=42)\n",
    "\n",
    "print(X_train.shape)\n",
    "print(X_test.shape)\n",
    "\n",
    "print(y_train.shape)\n",
    "print(y_test.shape)"
   ]
  },
  {
   "cell_type": "markdown",
   "metadata": {},
   "source": [
    "# Logistic Regression"
   ]
  },
  {
   "cell_type": "code",
   "execution_count": 12,
   "metadata": {},
   "outputs": [
    {
     "data": {
      "text/plain": [
       "LogisticRegression(class_weight='balanced', random_state=42, solver='liblinear')"
      ]
     },
     "execution_count": 12,
     "metadata": {},
     "output_type": "execute_result"
    }
   ],
   "source": [
    "# Training my model\n",
    "log_reg = LogisticRegression(class_weight = 'balanced', random_state=42, solver = 'liblinear')\n",
    "\n",
    "log_reg.fit(X_train, y_train)"
   ]
  },
  {
   "cell_type": "code",
   "execution_count": 13,
   "metadata": {},
   "outputs": [
    {
     "data": {
      "text/plain": [
       "array([[0.000748, 0.000039, -0.018757, -0.009376, 0.000046, -0.025819,\n",
       "        -0.020082, -0.000032, -0.845642, 0.079370, 0.021073, 0.017247,\n",
       "        -0.833222, 1.008240, 0.490334, -0.299740, -0.638282, 0.735609,\n",
       "        -1.296500]])"
      ]
     },
     "execution_count": 13,
     "metadata": {},
     "output_type": "execute_result"
    }
   ],
   "source": [
    "# Methods we can use in Logistic\n",
    "\n",
    "# predict - Predict class labels for samples in X\n",
    "log_reg.predict(X_train)\n",
    "y_pred = log_reg.predict(X_train)\n",
    "\n",
    "# predict_proba - Probability estimates\n",
    "pred_proba = log_reg.predict_proba(X_train)\n",
    "\n",
    "# coef_ - Coefficient of the features in the decision function\n",
    "log_reg.coef_"
   ]
  },
  {
   "cell_type": "markdown",
   "metadata": {},
   "source": [
    "# Evaluating the Model"
   ]
  },
  {
   "cell_type": "code",
   "execution_count": 14,
   "metadata": {
    "scrolled": true
   },
   "outputs": [
    {
     "name": "stdout",
     "output_type": "stream",
     "text": [
      "The Training Accuracy is:  0.7779413249510676\n",
      "The Testing Accuracy is:  0.7777572330838775\n",
      "              precision    recall  f1-score   support\n",
      "\n",
      "           0       0.95      0.79      0.86    707088\n",
      "           1       0.36      0.72      0.48    114965\n",
      "\n",
      "    accuracy                           0.78    822053\n",
      "   macro avg       0.65      0.75      0.67    822053\n",
      "weighted avg       0.86      0.78      0.81    822053\n",
      "\n"
     ]
    }
   ],
   "source": [
    "# Accuracy on Train\n",
    "print(\"The Training Accuracy is: \", log_reg.score(X_train, y_train))\n",
    "\n",
    "# Accuracy on Test\n",
    "print(\"The Testing Accuracy is: \", log_reg.score(X_test, y_test))\n",
    "\n",
    "# Classification Report\n",
    "print(classification_report(y_train, y_pred))"
   ]
  },
  {
   "cell_type": "code",
   "execution_count": 15,
   "metadata": {},
   "outputs": [],
   "source": [
    "# Confusion Matrix function\n",
    "\n",
    "def plot_confusion_matrix(cm, classes=None, title='Confusion matrix'):\n",
    "    \"\"\"Plots a confusion matrix.\"\"\"\n",
    "    if classes is not None:\n",
    "        sns.heatmap(cm, cmap=\"YlGnBu\", xticklabels=classes, yticklabels=classes, vmin=0., vmax=1., annot=True, annot_kws={'size':50})\n",
    "    else:\n",
    "        sns.heatmap(cm, vmin=0., vmax=1.)\n",
    "    plt.title(title)\n",
    "    plt.ylabel('True label')\n",
    "    plt.xlabel('Predicted label')"
   ]
  },
  {
   "cell_type": "code",
   "execution_count": 16,
   "metadata": {},
   "outputs": [
    {
     "data": {
      "image/png": "[encoded data removed]",
      "text/plain": [
       "<Figure size 864x720 with 2 Axes>"
      ]
     },
     "metadata": {},
     "output_type": "display_data"
    }
   ],
   "source": [
    "# Visualizing cm\n",
    "\n",
    "cm = confusion_matrix(y_train, y_pred)\n",
    "cm_norm = cm / cm.sum(axis=1).reshape(-1,1)\n",
    "\n",
    "plot_confusion_matrix(cm_norm, classes = log_reg.classes_, title='Confusion matrix')"
   ]
  },
  {
   "cell_type": "code",
   "execution_count": 17,
   "metadata": {},
   "outputs": [
    {
     "data": {
      "text/plain": [
       "array([0, 1], dtype=int64)"
      ]
     },
     "execution_count": 17,
     "metadata": {},
     "output_type": "execute_result"
    }
   ],
   "source": [
    "log_reg.classes_"
   ]
  },
  {
   "cell_type": "code",
   "execution_count": 18,
   "metadata": {},
   "outputs": [
    {
     "data": {
      "text/plain": [
       "array([[0.787331, 0.212669],\n",
       "       [0.279807, 0.720193]])"
      ]
     },
     "execution_count": 18,
     "metadata": {},
     "output_type": "execute_result"
    }
   ],
   "source": [
    "cm.sum(axis=1)\n",
    "cm_norm"
   ]
  },
  {
   "cell_type": "code",
   "execution_count": 19,
   "metadata": {},
   "outputs": [
    {
     "data": {
      "text/plain": [
       "array([[556712, 150376],\n",
       "       [ 32168,  82797]], dtype=int64)"
      ]
     },
     "execution_count": 19,
     "metadata": {},
     "output_type": "execute_result"
    }
   ],
   "source": [
    "cm"
   ]
  },
  {
   "cell_type": "code",
   "execution_count": 20,
   "metadata": {},
   "outputs": [
    {
     "data": {
      "text/plain": [
       "array([588880, 233173], dtype=int64)"
      ]
     },
     "execution_count": 20,
     "metadata": {},
     "output_type": "execute_result"
    }
   ],
   "source": [
    "cm.sum(axis=0)"
   ]
  },
  {
   "cell_type": "code",
   "execution_count": 21,
   "metadata": {},
   "outputs": [
    {
     "data": {
      "text/plain": [
       "array([556712,  82797], dtype=int64)"
      ]
     },
     "execution_count": 21,
     "metadata": {},
     "output_type": "execute_result"
    }
   ],
   "source": [
    "np.diag(cm)"
   ]
  },
  {
   "cell_type": "code",
   "execution_count": 22,
   "metadata": {},
   "outputs": [
    {
     "name": "stdout",
     "output_type": "stream",
     "text": [
      "The True Positive Rate is: [0.787331 0.720193]\n",
      "The Precision is: [0.945374 0.355088]\n",
      "The False positive rate is: [0.279807 0.212669]\n",
      "The False Negative Rate is:  [0.212669 0.279807]\n",
      "\n",
      "The average TPR is: 0.7537618374818231\n",
      "The average Precision is: 0.6502312759456392\n",
      "The average False positive rate is: 0.24623816251817687\n",
      "The average False Negative Rate is: 0.24623816251817687\n"
     ]
    }
   ],
   "source": [
    "# Calculating False Positives (FP), False Negatives (FN), True Positives (TP) & True Negatives (TN)\n",
    "\n",
    "FP = cm.sum(axis=0) - np.diag(cm)\n",
    "FN = cm.sum(axis=1) - np.diag(cm)\n",
    "TP = np.diag(cm)\n",
    "TN = cm.sum() - (FP + FN + TP)\n",
    "\n",
    "\n",
    "# Sensitivity, hit rate, recall, or true positive rate\n",
    "TPR = TP / (TP + FN)\n",
    "print(\"The True Positive Rate is:\", TPR)\n",
    "\n",
    "# Precision or positive predictive value\n",
    "PPV = TP / (TP + FP)\n",
    "print(\"The Precision is:\", PPV)\n",
    "\n",
    "# False positive rate or False alarm rate\n",
    "FPR = FP / (FP + TN)\n",
    "print(\"The False positive rate is:\", FPR)\n",
    "\n",
    "\n",
    "# False negative rate or Miss Rate\n",
    "FNR = FN / (FN + TP)\n",
    "print(\"The False Negative Rate is: \", FNR)\n",
    "\n",
    "\n",
    "\n",
    "##Total averages :\n",
    "print(\"\")\n",
    "print(\"The average TPR is:\", TPR.sum()/2)\n",
    "print(\"The average Precision is:\", PPV.sum()/2)\n",
    "print(\"The average False positive rate is:\", FPR.sum()/2)\n",
    "print(\"The average False Negative Rate is:\", FNR.sum()/2)"
   ]
  },
  {
   "cell_type": "code",
   "execution_count": 23,
   "metadata": {},
   "outputs": [
    {
     "name": "stdout",
     "output_type": "stream",
     "text": [
      "The Log Loss on Training is:  0.4998232523668868\n",
      "The Log Loss on Testing Dataset is:  0.49934189566395926\n"
     ]
    }
   ],
   "source": [
    "# Running Log loss on training\n",
    "print(\"The Log Loss on Training is: \", log_loss(y_train, pred_proba))\n",
    "\n",
    "# Running Log loss on testing\n",
    "pred_proba_t = log_reg.predict_proba(X_test)\n",
    "print(\"The Log Loss on Testing Dataset is: \", log_loss(y_test, pred_proba_t))"
   ]
  },
  {
   "cell_type": "markdown",
   "metadata": {},
   "source": [
    "# Hyper Parameter Tuning"
   ]
  },
  {
   "cell_type": "code",
   "execution_count": 24,
   "metadata": {},
   "outputs": [
    {
     "data": {
      "text/plain": [
       "array([0.000010, 0.000034, 0.000113, 0.000379, 0.001274, 0.004281,\n",
       "       0.014384, 0.048329, 0.162378, 0.545559, 1.832981, 6.158482,\n",
       "       20.691381, 69.519280, 233.572147, 784.759970, 2636.650899,\n",
       "       8858.667904, 29763.514416, 100000.000000])"
      ]
     },
     "execution_count": 24,
     "metadata": {},
     "output_type": "execute_result"
    }
   ],
   "source": [
    "np.geomspace(1e-5, 1e5, num=20)"
   ]
  },
  {
   "cell_type": "code",
   "execution_count": 25,
   "metadata": {},
   "outputs": [
    {
     "data": {
      "text/plain": [
       "[<matplotlib.lines.Line2D at 0x20385e1c400>]"
      ]
     },
     "execution_count": 25,
     "metadata": {},
     "output_type": "execute_result"
    },
    {
     "data": {
      "image/png": "[encoded data removed]",
      "text/plain": [
       "<Figure size 864x720 with 1 Axes>"
      ]
     },
     "metadata": {},
     "output_type": "display_data"
    }
   ],
   "source": [
    "# Creating a range for C values\n",
    "np.geomspace(1e-5, 1e5, num=20)\n",
    "\n",
    "# ploting it\n",
    "plt.plot(np.geomspace(1e-5, 1e5, num=20)) #  uniformly distributed in log space\n",
    "plt.plot(np.linspace(1e-5, 1e5, num=20)) # uniformly distributed in linear space, instead of log space\n",
    "# plt.plot(np.logspace(np.log10(1e-5) , np.log10(1e5) , num=20)) # same as geomspace"
   ]
  },
  {
   "cell_type": "code",
   "execution_count": 26,
   "metadata": {},
   "outputs": [
    {
     "name": "stdout",
     "output_type": "stream",
     "text": [
      "The CA of C parameter 1e-05 is 0.7799517307823312:\n",
      "The Logg Loss of C parameter 1e-05 is 0.5443139073252253:\n",
      "\n",
      "The CA of C parameter 3.359818286283781e-05 is 0.7865108946349154:\n",
      "The Logg Loss of C parameter 3.359818286283781e-05 is 0.5202549243857036:\n",
      "\n",
      "The CA of C parameter 0.00011288378916846884 is 0.7846034820012262:\n",
      "The Logg Loss of C parameter 0.00011288378916846884 is 0.5069577636046747:\n",
      "\n",
      "The CA of C parameter 0.000379269019073225 is 0.7823068014831106:\n",
      "The Logg Loss of C parameter 0.000379269019073225 is 0.5018971543045736:\n",
      "\n",
      "The CA of C parameter 0.0012742749857031334 is 0.7789931586169312:\n",
      "The Logg Loss of C parameter 0.0012742749857031334 is 0.4987621011872159:\n",
      "\n",
      "The CA of C parameter 0.004281332398719391 is 0.7790953414365931:\n",
      "The Logg Loss of C parameter 0.004281332398719391 is 0.49946421402954116:\n",
      "\n",
      "The CA of C parameter 0.01438449888287663 is 0.777985927965978:\n",
      "The Logg Loss of C parameter 0.01438449888287663 is 0.4981328586060993:\n",
      "\n",
      "The CA of C parameter 0.04832930238571752 is 0.7778642817520948:\n",
      "The Logg Loss of C parameter 0.04832930238571752 is 0.4990449055995211:\n",
      "\n",
      "The CA of C parameter 0.1623776739188721 is 0.7781902936053018:\n",
      "The Logg Loss of C parameter 0.1623776739188721 is 0.4980017201297527:\n",
      "\n",
      "The CA of C parameter 0.5455594781168515 is 0.7780881107856399:\n",
      "The Logg Loss of C parameter 0.5455594781168515 is 0.49811816781578755:\n",
      "\n",
      "The CA of C parameter 1.8329807108324339 is 0.7778204891150968:\n",
      "The Logg Loss of C parameter 1.8329807108324339 is 0.49904152937723967:\n",
      "\n",
      "The CA of C parameter 6.1584821106602545 is 0.7782146228480785:\n",
      "The Logg Loss of C parameter 6.1584821106602545 is 0.4996211274489839:\n",
      "\n",
      "The CA of C parameter 20.6913808111479 is 0.7766770147045944:\n",
      "The Logg Loss of C parameter 20.6913808111479 is 0.497996496765582:\n",
      "\n",
      "The CA of C parameter 69.51927961775606 is 0.7778204891150968:\n",
      "The Logg Loss of C parameter 69.51927961775606 is 0.49910040058075517:\n",
      "\n",
      "The CA of C parameter 233.57214690901213 is 0.7770565508919101:\n",
      "The Logg Loss of C parameter 233.57214690901213 is 0.49875519991546763:\n",
      "\n",
      "The CA of C parameter 784.7599703514607 is 0.779212121801921:\n",
      "The Logg Loss of C parameter 784.7599703514607 is 0.49907511871018123:\n",
      "\n",
      "The CA of C parameter 2636.6508987303555 is 0.7782973422735191:\n",
      "The Logg Loss of C parameter 2636.6508987303555 is 0.49980846609475005:\n",
      "\n",
      "The CA of C parameter 8858.667904100832 is 0.7791245365279251:\n",
      "The Logg Loss of C parameter 8858.667904100832 is 0.4994870365747232:\n",
      "\n",
      "The CA of C parameter 29763.51441631313 is 0.7780686473914186:\n",
      "The Logg Loss of C parameter 29763.51441631313 is 0.49814433318248824:\n",
      "\n",
      "The CA of C parameter 100000.0 is 0.778856914857382:\n",
      "The Logg Loss of C parameter 100000.0 is 0.4991268402547412:\n",
      "\n"
     ]
    }
   ],
   "source": [
    "# Looping over the parameters\n",
    "\n",
    "C_List = np.geomspace(1e-5, 1e5, num=20)\n",
    "CA = []\n",
    "Logarithmic_Loss = []\n",
    "\n",
    "for c in C_List:\n",
    "    log_reg2 = LogisticRegression(class_weight='balanced', random_state=10, solver = 'liblinear', C=c)\n",
    "    log_reg2.fit(X_train, y_train)\n",
    "    score = log_reg2.score(X_test, y_test)\n",
    "    CA.append(score)\n",
    "    print(\"The CA of C parameter {} is {}:\".format(c, score))\n",
    "    pred_proba_t = log_reg2.predict_proba(X_test)\n",
    "    log_loss2 = log_loss(y_test, pred_proba_t)\n",
    "    Logarithmic_Loss.append(log_loss2)\n",
    "    print(\"The Logg Loss of C parameter {} is {}:\".format(c, log_loss2))\n",
    "    print(\"\")"
   ]
  },
  {
   "cell_type": "code",
   "execution_count": 27,
   "metadata": {},
   "outputs": [
    {
     "data": {
      "text/html": [
       "<div>\n",
       "<style scoped>\n",
       "    .dataframe tbody tr th:only-of-type {\n",
       "        vertical-align: middle;\n",
       "    }\n",
       "\n",
       "    .dataframe tbody tr th {\n",
       "        vertical-align: top;\n",
       "    }\n",
       "\n",
       "    .dataframe thead th {\n",
       "        text-align: right;\n",
       "    }\n",
       "</style>\n",
       "<table border=\"1\" class=\"dataframe\">\n",
       "  <thead>\n",
       "    <tr style=\"text-align: right;\">\n",
       "      <th></th>\n",
       "      <th>index</th>\n",
       "      <th>C_List</th>\n",
       "      <th>CA2</th>\n",
       "      <th>Logarithmic_Loss2</th>\n",
       "    </tr>\n",
       "  </thead>\n",
       "  <tbody>\n",
       "    <tr>\n",
       "      <th>0</th>\n",
       "      <td>12</td>\n",
       "      <td>20.691381</td>\n",
       "      <td>0.776677</td>\n",
       "      <td>0.497996</td>\n",
       "    </tr>\n",
       "    <tr>\n",
       "      <th>1</th>\n",
       "      <td>8</td>\n",
       "      <td>0.162378</td>\n",
       "      <td>0.778190</td>\n",
       "      <td>0.498002</td>\n",
       "    </tr>\n",
       "    <tr>\n",
       "      <th>2</th>\n",
       "      <td>9</td>\n",
       "      <td>0.545559</td>\n",
       "      <td>0.778088</td>\n",
       "      <td>0.498118</td>\n",
       "    </tr>\n",
       "    <tr>\n",
       "      <th>3</th>\n",
       "      <td>6</td>\n",
       "      <td>0.014384</td>\n",
       "      <td>0.777986</td>\n",
       "      <td>0.498133</td>\n",
       "    </tr>\n",
       "    <tr>\n",
       "      <th>4</th>\n",
       "      <td>18</td>\n",
       "      <td>29763.514416</td>\n",
       "      <td>0.778069</td>\n",
       "      <td>0.498144</td>\n",
       "    </tr>\n",
       "    <tr>\n",
       "      <th>5</th>\n",
       "      <td>14</td>\n",
       "      <td>233.572147</td>\n",
       "      <td>0.777057</td>\n",
       "      <td>0.498755</td>\n",
       "    </tr>\n",
       "    <tr>\n",
       "      <th>6</th>\n",
       "      <td>4</td>\n",
       "      <td>0.001274</td>\n",
       "      <td>0.778993</td>\n",
       "      <td>0.498762</td>\n",
       "    </tr>\n",
       "    <tr>\n",
       "      <th>7</th>\n",
       "      <td>10</td>\n",
       "      <td>1.832981</td>\n",
       "      <td>0.777820</td>\n",
       "      <td>0.499042</td>\n",
       "    </tr>\n",
       "    <tr>\n",
       "      <th>8</th>\n",
       "      <td>7</td>\n",
       "      <td>0.048329</td>\n",
       "      <td>0.777864</td>\n",
       "      <td>0.499045</td>\n",
       "    </tr>\n",
       "    <tr>\n",
       "      <th>9</th>\n",
       "      <td>15</td>\n",
       "      <td>784.759970</td>\n",
       "      <td>0.779212</td>\n",
       "      <td>0.499075</td>\n",
       "    </tr>\n",
       "    <tr>\n",
       "      <th>10</th>\n",
       "      <td>13</td>\n",
       "      <td>69.519280</td>\n",
       "      <td>0.777820</td>\n",
       "      <td>0.499100</td>\n",
       "    </tr>\n",
       "    <tr>\n",
       "      <th>11</th>\n",
       "      <td>19</td>\n",
       "      <td>100000.000000</td>\n",
       "      <td>0.778857</td>\n",
       "      <td>0.499127</td>\n",
       "    </tr>\n",
       "    <tr>\n",
       "      <th>12</th>\n",
       "      <td>5</td>\n",
       "      <td>0.004281</td>\n",
       "      <td>0.779095</td>\n",
       "      <td>0.499464</td>\n",
       "    </tr>\n",
       "    <tr>\n",
       "      <th>13</th>\n",
       "      <td>17</td>\n",
       "      <td>8858.667904</td>\n",
       "      <td>0.779125</td>\n",
       "      <td>0.499487</td>\n",
       "    </tr>\n",
       "    <tr>\n",
       "      <th>14</th>\n",
       "      <td>11</td>\n",
       "      <td>6.158482</td>\n",
       "      <td>0.778215</td>\n",
       "      <td>0.499621</td>\n",
       "    </tr>\n",
       "    <tr>\n",
       "      <th>15</th>\n",
       "      <td>16</td>\n",
       "      <td>2636.650899</td>\n",
       "      <td>0.778297</td>\n",
       "      <td>0.499808</td>\n",
       "    </tr>\n",
       "    <tr>\n",
       "      <th>16</th>\n",
       "      <td>3</td>\n",
       "      <td>0.000379</td>\n",
       "      <td>0.782307</td>\n",
       "      <td>0.501897</td>\n",
       "    </tr>\n",
       "    <tr>\n",
       "      <th>17</th>\n",
       "      <td>2</td>\n",
       "      <td>0.000113</td>\n",
       "      <td>0.784603</td>\n",
       "      <td>0.506958</td>\n",
       "    </tr>\n",
       "    <tr>\n",
       "      <th>18</th>\n",
       "      <td>1</td>\n",
       "      <td>0.000034</td>\n",
       "      <td>0.786511</td>\n",
       "      <td>0.520255</td>\n",
       "    </tr>\n",
       "    <tr>\n",
       "      <th>19</th>\n",
       "      <td>0</td>\n",
       "      <td>0.000010</td>\n",
       "      <td>0.779952</td>\n",
       "      <td>0.544314</td>\n",
       "    </tr>\n",
       "  </tbody>\n",
       "</table>\n",
       "</div>"
      ],
      "text/plain": [
       "    index         C_List       CA2  Logarithmic_Loss2\n",
       "0      12      20.691381  0.776677           0.497996\n",
       "1       8       0.162378  0.778190           0.498002\n",
       "2       9       0.545559  0.778088           0.498118\n",
       "3       6       0.014384  0.777986           0.498133\n",
       "4      18   29763.514416  0.778069           0.498144\n",
       "5      14     233.572147  0.777057           0.498755\n",
       "6       4       0.001274  0.778993           0.498762\n",
       "7      10       1.832981  0.777820           0.499042\n",
       "8       7       0.048329  0.777864           0.499045\n",
       "9      15     784.759970  0.779212           0.499075\n",
       "10     13      69.519280  0.777820           0.499100\n",
       "11     19  100000.000000  0.778857           0.499127\n",
       "12      5       0.004281  0.779095           0.499464\n",
       "13     17    8858.667904  0.779125           0.499487\n",
       "14     11       6.158482  0.778215           0.499621\n",
       "15     16    2636.650899  0.778297           0.499808\n",
       "16      3       0.000379  0.782307           0.501897\n",
       "17      2       0.000113  0.784603           0.506958\n",
       "18      1       0.000034  0.786511           0.520255\n",
       "19      0       0.000010  0.779952           0.544314"
      ]
     },
     "execution_count": 27,
     "metadata": {},
     "output_type": "execute_result"
    }
   ],
   "source": [
    "# reshaping\n",
    "CA2 = np.array(CA).reshape(20,)\n",
    "Logarithmic_Loss2 = np.array(Logarithmic_Loss).reshape(20,)\n",
    "\n",
    "# zip\n",
    "outcomes = zip(C_List, CA2, Logarithmic_Loss2)\n",
    "\n",
    "#df\n",
    "df_outcomes = pd.DataFrame(outcomes, columns = [\"C_List\", 'CA2','Logarithmic_Loss2'])\n",
    "\n",
    "#print\n",
    "df_outcomes\n",
    "\n",
    "# Ordering the data (sort_values)\n",
    "df_outcomes.sort_values(\"Logarithmic_Loss2\", ascending = True).reset_index()"
   ]
  },
  {
   "cell_type": "code",
   "execution_count": 28,
   "metadata": {},
   "outputs": [
    {
     "name": "stdout",
     "output_type": "stream",
     "text": [
      "Testing Acc: 0.8599706102747258\n",
      "Log Loss: 4.836443780437051\n"
     ]
    }
   ],
   "source": [
    "# Training a Dummy Classifier\n",
    "\n",
    "from sklearn.dummy import DummyClassifier\n",
    "\n",
    "dummy_clf = DummyClassifier(strategy=\"most_frequent\")\n",
    "dummy_clf.fit(X_train, y_train)\n",
    "score = dummy_clf.score(X_test, y_test)\n",
    "\n",
    "pred_proba_t = dummy_clf.predict_proba(X_test)\n",
    "log_loss2 = log_loss(y_test, pred_proba_t)\n",
    "\n",
    "print(\"Testing Acc:\", score)\n",
    "print(\"Log Loss:\", log_loss2)"
   ]
  },
  {
   "cell_type": "markdown",
   "metadata": {},
   "source": [
    "# Final Model with Selected Parameters and Grid Search"
   ]
  },
  {
   "cell_type": "code",
   "execution_count": 29,
   "metadata": {},
   "outputs": [
    {
     "name": "stdout",
     "output_type": "stream",
     "text": [
      "Testing Acc: 0.8656393238416847\n",
      "Log Loss: 0.34316356373142737\n"
     ]
    }
   ],
   "source": [
    "# Final Model \n",
    "log_reg3 = LogisticRegression(random_state=10, solver = 'liblinear', C=20.6913808111479)\n",
    "log_reg3.fit(X_train, y_train)\n",
    "score = log_reg3.score(X_test, y_test)\n",
    "\n",
    "pred_proba_t = log_reg3.predict_proba(X_test)\n",
    "log_loss2 = log_loss(y_test, pred_proba_t)\n",
    "\n",
    "print(\"Testing Acc:\", score)\n",
    "print(\"Log Loss:\", log_loss2)"
   ]
  },
  {
   "cell_type": "code",
   "execution_count": 30,
   "metadata": {},
   "outputs": [
    {
     "data": {
      "text/plain": [
       "0.863148009381356"
      ]
     },
     "execution_count": 30,
     "metadata": {},
     "output_type": "execute_result"
    }
   ],
   "source": [
    "from sklearn.model_selection import GridSearchCV\n",
    "\n",
    "# parameters\n",
    "param_grid = {'C': [0.001, 0.01, 0.1, 1, 10, 100],\n",
    "              'penalty': ['l1', 'l2']}\n",
    "\n",
    "# Grid Search\n",
    "grid_search = GridSearchCV(LogisticRegression(), param_grid, cv=5)        \n",
    "\n",
    "grid_search.fit(X_train, y_train)\n",
    "grid_search.score(X_test, y_test)"
   ]
  }
 ],
 "metadata": {
  "kernelspec": {
   "display_name": "Python 3",
   "language": "python",
   "name": "python3"
  },
  "language_info": {
   "codemirror_mode": {
    "name": "ipython",
    "version": 3
   },
   "file_extension": ".py",
   "mimetype": "text/x-python",
   "name": "python",
   "nbconvert_exporter": "python",
   "pygments_lexer": "ipython3",
   "version": "3.8.5"
  },
  "latex_envs": {
   "LaTeX_envs_menu_present": true,
   "autoclose": false,
   "autocomplete": true,
   "bibliofile": "biblio.bib",
   "cite_by": "apalike",
   "current_citInitial": 1,
   "eqLabelWithNumbers": true,
   "eqNumInitial": 1,
   "hotkeys": {
    "equation": "Ctrl-E",
    "itemize": "Ctrl-I"
   },
   "labels_anchors": false,
   "latex_user_defs": false,
   "report_style_numbering": false,
   "user_envs_cfg": false
  },
  "toc": {
   "base_numbering": 1,
   "nav_menu": {},
   "number_sections": true,
   "sideBar": true,
   "skip_h1_title": false,
   "title_cell": "Table of Contents",
   "title_sidebar": "Contents",
   "toc_cell": false,
   "toc_position": {},
   "toc_section_display": true,
   "toc_window_display": false
  },
  "varInspector": {
   "cols": {
    "lenName": 16,
    "lenType": 16,
    "lenVar": 40
   },
   "kernels_config": {
    "python": {
     "delete_cmd_postfix": "",
     "delete_cmd_prefix": "del ",
     "library": "var_list.py",
     "varRefreshCmd": "print(var_dic_list())"
    },
    "r": {
     "delete_cmd_postfix": ") ",
     "delete_cmd_prefix": "rm(",
     "library": "var_list.r",
     "varRefreshCmd": "cat(var_dic_list()) "
    }
   },
   "types_to_exclude": [
    "module",
    "function",
    "builtin_function_or_method",
    "instance",
    "_Feature"
   ],
   "window_display": false
  }
 },
 "nbformat": 4,
 "nbformat_minor": 4
}
